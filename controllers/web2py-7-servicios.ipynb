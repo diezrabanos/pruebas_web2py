{
 "cells": [
  {
   "cell_type": "markdown",
   "metadata": {},
   "source": [
    "# [Servicios](http://www.web2py.com/books/default/chapter/29/10/services#Services)\n",
    "La W3C define un servicio web como \"un sistema software diseñado para soportar la interación de dos máquinas sobre la red\". Incluye un buen número de protocolos, como XML, JSON, RSS, etc.\n",
    "\n",
    "Web2py proporciona soporte para XML, JSON, RSS, CSV, XMLRPC, JSONRPC, AMFRPC, y SOAP.\n",
    "\n",
    "Cada uno de ellos es soportado de varias maneras y se distingue entre:\n",
    "- Renderizar la salida de una función a un formato determinado: XML, JSON, RSS y CSV\n",
    "- RPC: XMLRPC, JSONRPC y AMFRPC\n",
    "\n",
    "## HTML, XML y JSON\n",
    "```python\n",
    "def cuenta():\n",
    "    session.contador = (session.contador or 0) + 1\n",
    "    return dict(contador=session.contador, ahora=request.now)\n",
    "```\n",
    "\n",
    "La acción devuelve un contador, que se incrementa con las visitas y un sello de tiempo.\n",
    "\n",
    "Si la página se visita mediante la URL http://127.0.0.1:8000/app/default/count, se renderizará en formato HTML.\n",
    "\n",
    "Pero basta con cambiar la extensión de la petición para que Web2py cambie el formato de renderizado:\n",
    "http://127.0.0.1:8000/app/default/count.html\n",
    "http://127.0.0.1:8000/app/default/count.xml\n",
    "http://127.0.0.1:8000/app/default/count.json\n",
    "\n"
   ]
  },
  {
   "cell_type": "code",
   "execution_count": null,
   "metadata": {},
   "outputs": [],
   "source": []
  }
 ],
 "metadata": {
  "kernelspec": {
   "display_name": "Python 3",
   "language": "python",
   "name": "python3"
  },
  "language_info": {
   "codemirror_mode": {
    "name": "ipython",
    "version": 3
   },
   "file_extension": ".py",
   "mimetype": "text/x-python",
   "name": "python",
   "nbconvert_exporter": "python",
   "pygments_lexer": "ipython3",
   "version": "3.7.9"
  }
 },
 "nbformat": 4,
 "nbformat_minor": 2
}
