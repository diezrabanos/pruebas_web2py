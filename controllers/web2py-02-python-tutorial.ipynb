{
 "cells": [
  {
   "cell_type": "markdown",
   "metadata": {
    "slideshow": {
     "slide_type": "slide"
    }
   },
   "source": [
    "# Python para programadores en otros lenguajes\n",
    "\n",
    "\n",
    "- Lenguaje de propósito general\n",
    "- Alto nivel\n",
    "- Interpretado\n",
    "- Fácil de usar\n",
    "- Ampliamente disponible\n",
    "- Muy extendido"
   ]
  },
  {
   "cell_type": "markdown",
   "metadata": {
    "slideshow": {
     "slide_type": "slide"
    }
   },
   "source": [
    "## Números (cálculos)\n",
    "```python\n",
    "2+2\n",
    "# devolverá 4\n",
    "# Esto es un comentario\n",
    "2+2  # y un comentario en la misma línea que el código\n",
    "# también devolverá 4\n",
    "(50-5*6)/4\n",
    "# devolverá 5\n",
    "# División entera\n",
    "7//3\n",
    "# 2\n",
    "7/-3\n",
    "# -3\n",
    "```"
   ]
  },
  {
   "cell_type": "markdown",
   "metadata": {
    "slideshow": {
     "slide_type": "subslide"
    }
   },
   "source": [
    "## Números (variables)\n",
    "```python\n",
    "ancho = 20\n",
    "largo = 5*9\n",
    "ancho * largo\n",
    "# 900\n",
    "# asignación múltiple\n",
    "x = y = z = 0  # Cero a x, y, y z\n",
    "# x será 0, y será 0, z será 0\n",
    "```"
   ]
  },
  {
   "cell_type": "markdown",
   "metadata": {
    "slideshow": {
     "slide_type": "subslide"
    }
   },
   "source": [
    "## Números (float y complex)\n",
    "```python\n",
    "# soporte completo de punto flotante\n",
    "3 * 3.75 / 1.5\n",
    "# 7.5\n",
    "7.0 / 2\n",
    "# 3.5\n",
    "# soporte de números complejos (complex(real, imag))\n",
    "1j * 1J\n",
    "# (-1+0j)\n",
    "1j * complex(0,1)\n",
    "# (-1+0j)\n",
    "3+1j*3\n",
    "# (3+3j)\n",
    "(3+1j)*3\n",
    "# (9+3j)\n",
    "(1+2j)/(1+1j)\n",
    "# (1.5+0.5j)\n",
    "```"
   ]
  },
  {
   "cell_type": "markdown",
   "metadata": {
    "slideshow": {
     "slide_type": "slide"
    }
   },
   "source": [
    "## Cadenas de caracteres\n",
    "```python\n",
    "'huevos y pan'\n",
    "# 'huevos y pan'\n",
    " 'doesn\\'t'\n",
    "# \"doesn't\"\n",
    "\"doesn't\"\n",
    "# \"doesn't\"\n",
    "'\"Sí,\" le dijo.'\n",
    "# '\"Sí,\" le dijo.'\n",
    "\"\\\"Si,\\\" le dijo.\"\n",
    "# '\"Si,\" le dijo.'\n",
    "'\"Isn\\'t,\" she said.'\n",
    "# '\"Isn\\'t,\" she said.'\n",
    "'''Cadena multilínea\n",
    "  Otra línea de la misma cadena'''\n",
    "#Cadena multilínea\n",
    "#  Otra línea de la misma cadena\n",
    "```"
   ]
  },
  {
   "cell_type": "markdown",
   "metadata": {
    "slideshow": {
     "slide_type": "subslide"
    }
   },
   "source": [
    "## Cadenas (concatenación)\n",
    "```python\n",
    "palabra = 'Ayuda' + 'A'\n",
    "palabra\n",
    "# 'AyudaA'\n",
    "'<' + palabra * 5 + '>'\n",
    "# '<AyudaAAyudaAAyudaAAyudaAAyudaA>'\n",
    "```"
   ]
  },
  {
   "cell_type": "markdown",
   "metadata": {
    "slideshow": {
     "slide_type": "subslide"
    }
   },
   "source": [
    "## Cadenas (porciones I)\n",
    "```python\n",
    "# el índice empieza en 0\n",
    "# 'AyudaA'\n",
    "palabra[4]\n",
    "# 'a'\n",
    "palabra[0:2]\n",
    "# 'Ay'\n",
    "palabra[2:4]\n",
    "# 'ud'\n",
    "palabra[:2]    # Los primeros dos caracteres\n",
    "# 'Ay'\n",
    "palabra[2:]    # Todo menos los primeros dos caracteres\n",
    "# 'udaA'\n",
    "palabra[0] = 'x'  # Son inmutables\n",
    "# Traceback (most recent call last):\n",
    "# ...\n",
    "# TypeError: 'str' object does not support item assignment\n",
    "palabra[:1] = 'Mas'\n",
    "# Traceback (most recent call last):\n",
    "#  File \"<stdin>\", line 1, in ?\n",
    "# TypeError: 'str' object does not support item assignment\n",
    "```"
   ]
  },
  {
   "cell_type": "code",
   "execution_count": 4,
   "metadata": {},
   "outputs": [
    {
     "data": {
      "text/plain": [
       "'xyudaA'"
      ]
     },
     "execution_count": 4,
     "metadata": {},
     "output_type": "execute_result"
    }
   ],
   "source": [
    "palabra = 'AyudaA'\n",
    "palabra = 'x' + palabra[1:]\n",
    "palabra"
   ]
  },
  {
   "cell_type": "markdown",
   "metadata": {
    "slideshow": {
     "slide_type": "subslide"
    }
   },
   "source": [
    "## Cadenas (porciones II)\n",
    "```python\n",
    "'x' + palabra[1:]\n",
    "# 'xyudaA'\n",
    "'Mas' + palabra[5]\n",
    "# 'MasA'\n",
    "palabra[:2] + palabra[2:]\n",
    "# 'AyudaA'\n",
    "palabra[:3] + palabra[3:]\n",
    "# 'AyudaA'\n",
    "palabra[1:100]\n",
    "# 'yudaA'\n",
    "palabra[10:]\n",
    "# ''\n",
    "palabra[2:1]\n",
    "# ''\n",
    "```"
   ]
  },
  {
   "cell_type": "markdown",
   "metadata": {
    "slideshow": {
     "slide_type": "subslide"
    }
   },
   "source": [
    "## Cadenas (porciones III)\n",
    "```python\n",
    "palabra[-1]     # El último caracter\n",
    "# 'A'\n",
    "palabra[-2]     # El penúltimo caracter\n",
    "# 'a'\n",
    "palabra[-2:]    # Los últimos dos caracteres\n",
    "# 'aA'\n",
    "palabra[:-2]    # Todo menos los últimos dos caracteres\n",
    "# 'Ayud'\n",
    "palabra[-0]     # (ya que -0 es igual a 0)\n",
    "# 'A'\n",
    "palabra[-100:]\n",
    "# 'AyudaA'\n",
    "palabra[-10]    # error\n",
    "# Traceback (most recent call last):\n",
    "#  File \"<stdin>\", line 1, in ?\n",
    "# IndexError: string index out of range\n",
    "```"
   ]
  },
  {
   "cell_type": "markdown",
   "metadata": {
    "slideshow": {
     "slide_type": "slide"
    }
   },
   "source": [
    "## Listas\n",
    "- Python tiene varios tipos de datos compuestos, usados para agrupar otros valores.\n",
    "- El más versátil es la lista, la cual puede ser escrita como una lista de valores separados por coma (ítems) entre corchetes.\n",
    "- No es necesario que los ítems de una lista tengan todos el mismo tipo.\n",
    "```python\n",
    "a = ['pan', 'huevos', 100, 1234]\n",
    "```"
   ]
  },
  {
   "cell_type": "markdown",
   "metadata": {
    "slideshow": {
     "slide_type": "subslide"
    }
   },
   "source": [
    "## Listas (trozos I)\n",
    "```python\n",
    "a[0]\n",
    "# 'pan'\n",
    "a[3]\n",
    "# 1234\n",
    "a[-2]\n",
    "# 100\n",
    "a[1:-1]\n",
    "# ['huevos', 100]\n",
    "a[:2] + ['carne', 2*2]\n",
    "# ['pan', 'huevos', 'carne', 4]\n",
    "# 3 * a[:3] + ['Boo!']\n",
    "['pan', 'huevos', 100, 'pan', 'huevos', 100, 'pan', 'huevos', 100, 'Boo!']\n",
    "a[:]\n",
    "# ['pan', 'huevos', 100, 1234]\n",
    "a\n",
    "# ['pan', 'huevos', 100, 1234]\n",
    "a[2] = a[2] + 23  # son mutables (a diferencia de las cadenas)\n",
    "a\n",
    "# ['pan', 'huevos', 123, 1234]\n",
    "```"
   ]
  },
  {
   "cell_type": "markdown",
   "metadata": {
    "slideshow": {
     "slide_type": "subslide"
    }
   },
   "source": [
    "## Listas (trozos II)\n",
    "```python\n",
    "# Reemplazar algunos elementos:\n",
    "a[0:2] = [1, 12]\n",
    "# [1, 12, 123, 1234]\n",
    "# Borrar algunos:\n",
    "a[0:2] = []\n",
    "# [123, 1234]\n",
    "# Insertar algunos:\n",
    "a[1:1] = ['bruja', 'xyzzy']\n",
    "# [123, 'bruja', 'xyzzy', 1234]\n",
    "# Insertar (una copia de) la misma lista al principio\n",
    "a[:0] = a\n",
    "# [123, 'bruja', 'xyzzy', 1234, 123, 'bruja', 'xyzzy', 1234]\n",
    "# Vaciar la lista: reemplazar todos los items con una lista vacía\n",
    "a[:] = []\n",
    "# []\n",
    "```"
   ]
  },
  {
   "cell_type": "markdown",
   "metadata": {
    "slideshow": {
     "slide_type": "subslide"
    }
   },
   "source": [
    "## Listas (trozos III)\n",
    "```python\n",
    "q = [2, 3]\n",
    "p = [1, q, 4]\n",
    "len(p)\n",
    "# 3\n",
    "p[1]\n",
    "# [2, 3]\n",
    "p[1][0]\n",
    "# 2\n",
    "# p[1].append('extra')     # listas anidadas\n",
    "# [1, [2, 3, 'extra'], 4]\n",
    "q\n",
    "# [2, 3, 'extra']\n",
    "```"
   ]
  },
  {
   "cell_type": "markdown",
   "metadata": {
    "slideshow": {
     "slide_type": "slide"
    }
   },
   "source": [
    "# Control de flujo\n",
    "- if\n",
    "- for\n",
    "- while\n",
    "- try\n",
    "- with"
   ]
  },
  {
   "cell_type": "code",
   "execution_count": 5,
   "metadata": {
    "slideshow": {
     "slide_type": "subslide"
    }
   },
   "outputs": [
    {
     "name": "stdout",
     "output_type": "stream",
     "text": [
      "La condición se satisface\n"
     ]
    }
   ],
   "source": [
    "## condicional (if)\n",
    "condicion = True\n",
    "letra = 'a'\n",
    "\n",
    "# en Python el contexto lo marca la indentación\n",
    "# no hay llaves {}\n",
    "# por convenio, se define un tabulador de 4 espacios\n",
    "# por convenio, se usan espacios y no tabuladores\n",
    "# normalmente los editores de texto o IDEs ya lo saben\n",
    "# este comportamiento suele generar muchos problemas\n",
    "# a los programadores que ya conocen otros lenguajes\n",
    "# en los que se usan llaves para marcar los contextos\n",
    "if condicion:\n",
    "    # bloque de sentencias ejecutadas si se cumple la condición\n",
    "    print('La condición se satisface')\n",
    "elif letra == 'b':\n",
    "    # bloque de sentencias ejecutadas si no se cumple la condición y letra es 'b'\n",
    "    print('La condición no se satisface y la letra es la b')\n",
    "else:\n",
    "    # el cualquier otro caso\n",
    "    print('La condición no se satisface y la letra no es la b')"
   ]
  },
  {
   "cell_type": "code",
   "execution_count": 5,
   "metadata": {
    "slideshow": {
     "slide_type": "subslide"
    }
   },
   "outputs": [
    {
     "name": "stdout",
     "output_type": "stream",
     "text": [
      "Número 0\n",
      "Número 1\n",
      "Número 2\n",
      "Número 3\n",
      "Número 4\n",
      "Número 5\n",
      "Número 6\n",
      "Número 7\n",
      "Número 8\n",
      "Número 9\n",
      "Else\n"
     ]
    }
   ],
   "source": [
    "# bucle for\n",
    "\n",
    "for numero in range(10):  # range devuelve un rango de números\n",
    "    print('Número %s' % numero)\n",
    "else:  # se ejecuta al final de un bucle que termina normalmente\n",
    "    # es opcional\n",
    "    print('Else')"
   ]
  },
  {
   "cell_type": "code",
   "execution_count": 8,
   "metadata": {},
   "outputs": [
    {
     "data": {
      "text/plain": [
       "[0, 1, 2]"
      ]
     },
     "execution_count": 8,
     "metadata": {},
     "output_type": "execute_result"
    }
   ],
   "source": [
    "list(range(3))"
   ]
  },
  {
   "cell_type": "code",
   "execution_count": 14,
   "metadata": {},
   "outputs": [
    {
     "name": "stdout",
     "output_type": "stream",
     "text": [
      "Hola\n",
      "Hola\n",
      "Hola\n"
     ]
    }
   ],
   "source": [
    "for i in ['A', 'B', 'C']:\n",
    "    print('Hola')"
   ]
  },
  {
   "cell_type": "code",
   "execution_count": 15,
   "metadata": {
    "slideshow": {
     "slide_type": "subslide"
    }
   },
   "outputs": [
    {
     "name": "stdout",
     "output_type": "stream",
     "text": [
      "2 es un numero primo\n",
      "3 es un numero primo\n",
      "4 es igual a 2 * 2\n",
      "5 es un numero primo\n",
      "6 es igual a 2 * 3\n",
      "7 es un numero primo\n",
      "8 es igual a 2 * 4\n",
      "9 es igual a 3 * 3\n"
     ]
    }
   ],
   "source": [
    "# terminar un bucle sin agotarlo\n",
    "# sentencias break y continue\n",
    "\n",
    "for n in range(2, 10):\n",
    "    for x in range(2, n):\n",
    "        # % es el operador para el módulo\n",
    "        if n % x == 0:\n",
    "            print(n, 'es igual a', x, '*', n//x)\n",
    "            break\n",
    "            # break: sale del bucle en el que se encuentra\n",
    "            # continue: abandona la iteración actual pero continua en la siguiente\n",
    "    else:\n",
    "        # temina el bucle que calcula los módulos\n",
    "        # sin encontrar un factor => es un número primo\n",
    "        print(n, 'es un numero primo')"
   ]
  },
  {
   "cell_type": "code",
   "execution_count": 24,
   "metadata": {
    "slideshow": {
     "slide_type": "subslide"
    }
   },
   "outputs": [],
   "source": [
    "# sentencia pass\n",
    "# no hace nada\n",
    "for n in range(100000000):\n",
    "    pass"
   ]
  },
  {
   "cell_type": "code",
   "execution_count": 8,
   "metadata": {
    "slideshow": {
     "slide_type": "subslide"
    }
   },
   "outputs": [
    {
     "name": "stdout",
     "output_type": "stream",
     "text": [
      "3\n",
      "2\n",
      "1\n"
     ]
    }
   ],
   "source": [
    "# while\n",
    "# también están disponibles else, break y continue\n",
    "\n",
    "numero = 3\n",
    "\n",
    "while numero >= 1:\n",
    "    print(numero)\n",
    "    numero -= 1\n",
    "    # numero = numero - 1"
   ]
  },
  {
   "cell_type": "code",
   "execution_count": 26,
   "metadata": {
    "slideshow": {
     "slide_type": "subslide"
    }
   },
   "outputs": [
    {
     "name": "stdout",
     "output_type": "stream",
     "text": [
      "No puedo dividir entre cero\n"
     ]
    }
   ],
   "source": [
    "# try (captura de errores en ejecución)\n",
    "\n",
    "try:\n",
    "    c = 1 / 0\n",
    "except ZeroDivisionError:\n",
    "    print('No puedo dividir entre cero')"
   ]
  },
  {
   "cell_type": "markdown",
   "metadata": {
    "slideshow": {
     "slide_type": "subslide"
    }
   },
   "source": [
    "# Codificación\n",
    "Guía de estilo definida en [PEP 8](http://www.python.org/dev/peps/pep-0008) promueve un estilo de codificación fácil de leer y visualmente agradable. Resumen:\n",
    "- Usar sangrías de 4 espacios, no tabs.\n",
    "- Recortar las líneas para que no superen los 79 caracteres.\n",
    "- Usar líneas en blanco para separar funciones y clases, y bloques grandes de código dentro de funciones.\n",
    "- Cuando sea posible, poner comentarios en una sola línea.\n",
    "- Usar docstrings. Comentarios multilínea entre tres comillas.\n",
    "- Usar espacios alrededor de operadores y luego de las comas, pero no directamente dentro de paréntesis: a = f(1, 2) + g(3, 4).\n",
    "- Nombrar las clases y funciones consistentemente; la convención es usar NotacionCamello para clases y minusculas_con_guiones_bajos para funciones y métodos. Siempre usá self como el nombre para el primer argumento en los métodos.\n",
    "- No usar codificaciones estrafalarias si se espera usar el código en entornos internacionales. ASCII plano funciona bien en la mayoría de los casos.\n",
    "\n",
    "Otras guías:\n",
    "- [Hitchhiker's](http://python-guide-pt-br.readthedocs.io/en/latest/writing/style/)\n"
   ]
  },
  {
   "cell_type": "markdown",
   "metadata": {
    "slideshow": {
     "slide_type": "slide"
    }
   },
   "source": [
    "# Estructuras de datos\n",
    "- Listas\n",
    "- Tuplas\n",
    "- Conjuntos\n",
    "- Diccionarios"
   ]
  },
  {
   "cell_type": "markdown",
   "metadata": {
    "slideshow": {
     "slide_type": "subslide"
    }
   },
   "source": [
    "## Listas (métodos)\n",
    "```python\n",
    "list.append(x)        # añade el itmem 'x' al final (derecha)\n",
    "list.count(x)         # cuenta el nº de ocurrencias\n",
    "list.extend(L)        # añade los items de la lista L al final\n",
    "list.index(x)         # posición del item x\n",
    "list.insert(i, x)     # inserta el item x en la posición i\n",
    "list.pop([i])         # devuelve el último item y lo elimina de la lista\n",
    "list.remove(x)        # elimina el item x\n",
    "list.reverse()        # invierte la lista\n",
    "list.sort()           # ordena la lista\n",
    "```"
   ]
  },
  {
   "cell_type": "markdown",
   "metadata": {
    "slideshow": {
     "slide_type": "subslide"
    }
   },
   "source": [
    "## Listas (pilas)"
   ]
  },
  {
   "cell_type": "code",
   "execution_count": 9,
   "metadata": {
    "slideshow": {
     "slide_type": "fragment"
    }
   },
   "outputs": [],
   "source": [
    "pila = [3, 4, 5]\n",
    "pila.append(6)\n",
    "pila.append(7)\n",
    "\n",
    "# assert: realiza una aserción y procude un error si no se cumple\n",
    "assert pila == [3, 4, 5, 6, 7]\n",
    "\n",
    "ultimo = pila.pop()\n",
    "\n",
    "assert ultimo == 7\n",
    "assert pila == [3, 4, 5, 6]\n",
    "\n",
    "pila.pop()\n",
    "pila.pop()\n",
    "\n",
    "assert pila == [3, 4]"
   ]
  },
  {
   "cell_type": "markdown",
   "metadata": {
    "slideshow": {
     "slide_type": "subslide"
    }
   },
   "source": [
    "## Listas (colas)"
   ]
  },
  {
   "cell_type": "code",
   "execution_count": 24,
   "metadata": {
    "slideshow": {
     "slide_type": "fragment"
    }
   },
   "outputs": [],
   "source": [
    "from collections import deque\n",
    "cola = deque(['Ana', 'Rosa', 'Carla'])\n",
    "cola.append('Luisa')         # llega Luisa\n",
    "cola.append('Nuria')         # llega Nuria\n",
    "ella = cola.popleft()        # la primera en llegar ahora se va\n",
    "\n",
    "assert ella == 'Ana'\n",
    "\n",
    "ella = cola.popleft()        # la segunda en llegar ahora se va\n",
    "\n",
    "assert ella == 'Rosa'\n",
    "assert cola == deque(['Carla', 'Luisa', 'Nuria'])"
   ]
  },
  {
   "cell_type": "markdown",
   "metadata": {
    "slideshow": {
     "slide_type": "subslide"
    }
   },
   "source": [
    "## Listas (programación funcional)\n",
    "Hay tres funciones integradas que son muy útiles con listas (secuencias):\n",
    "- map(function, secuencia)\n",
    "- filter(function, secuencia)\n",
    "- reduce(function, secuencia, valor_inicial)"
   ]
  },
  {
   "cell_type": "code",
   "execution_count": 29,
   "metadata": {
    "slideshow": {
     "slide_type": "subslide"
    }
   },
   "outputs": [],
   "source": [
    "from functools import reduce\n",
    "\n",
    "\n",
    "lista = range(10)   # lista = [0, 1, 2, 3, 4, 5, 6, 7, 8, 9]\n",
    "\n",
    "# lambda: se usa para definir funciones simples y anónimas\n",
    "doble = lambda x: x * 2\n",
    "es_par = lambda x: x % 2 == 0\n",
    "suma = lambda x, y: x + y\n",
    "\n",
    "# map: aplica una función a cada elemento de una colección\n",
    "# devuelve una nueva lista, resultado de ejecutar la función sobre la lista original\n",
    "dobles = map(doble, lista)\n",
    "# assert ejecuta una aserción\n",
    "assert list(dobles) == [0, 2, 4, 6, 8, 10, 12, 14, 16, 18]\n",
    "\n",
    "# filter: aplica una función predicado a cada elemento de una colección\n",
    "# y devuelve la lista de los que cumplen con el predicado\n",
    "# un predicado es una función que devuelve un valor lógico, True o False\n",
    "pares = filter(es_par, lista)\n",
    "assert list(pares) == [0, 2, 4, 6, 8]\n",
    "\n",
    "# reduce aplica una función binaria a los elementos de una colección\n",
    "# la primera vez ejecuta la función con los dos primeros elementos de la colección y genera un resultado\n",
    "# a partir de ahí, y hasta que no queden más elementos tomará el resultado dado y el siguiente elemento\n",
    "sumatorio = reduce(suma, lista)\n",
    "# [0, 1, 2, 3, 4, 5, 6, 7, 8, 9]\n",
    "# suma 0 y 1 -> 1\n",
    "# suma 1 y 2 -> 3\n",
    "# suma 3 y 3 -> 6\n",
    "# suma 6 y 4 -> 10\n",
    "# suma 10 y 5 -> 15\n",
    "# suma 15 y 6 -> 21\n",
    "# suma 21 y 7 -> 28\n",
    "# suma 28 y 8 -> 36\n",
    "# suma 36 y 9 -> 45\n",
    "assert sumatorio == 45"
   ]
  },
  {
   "cell_type": "markdown",
   "metadata": {
    "slideshow": {
     "slide_type": "subslide"
    }
   },
   "source": [
    "# Listas por comprensión\n",
    "Consiste en un modo conciso de definir listas, basado en la definición por comprensión o intensiva de conjuntos:\n",
    "- Una lista se define en función de otra u otras\n",
    "- Pueden filtrarse\n",
    "- Pueden anidarse\n",
    "```python\n",
    "# transformación\n",
    "lista = [f(x) for x in l_origen]\n",
    "# filtrado\n",
    "lista = [x for x in l_origen if <cond>]\n",
    "# transformación y filtrado\n",
    "lista = [f(x) for x in l_origen if <cond>]\n",
    "```"
   ]
  },
  {
   "cell_type": "code",
   "execution_count": 41,
   "metadata": {},
   "outputs": [],
   "source": [
    "lista = range(10000)\n",
    "pares = [x for x in lista if x % 2 == 0]"
   ]
  },
  {
   "cell_type": "code",
   "execution_count": 42,
   "metadata": {},
   "outputs": [],
   "source": [
    "lista = range(10)\n",
    "pares = list(map(lambda x: x % 2 == 0, lista))"
   ]
  },
  {
   "cell_type": "code",
   "execution_count": 43,
   "metadata": {
    "slideshow": {
     "slide_type": "subslide"
    }
   },
   "outputs": [],
   "source": [
    "lista = range(10)\n",
    "doble = lambda x: x * 2\n",
    "es_par = lambda x: x % 2 == 0\n",
    "\n",
    "assert list(map(lambda x: x * 2, lista)) == [x * 2 for x in lista]\n",
    "assert list(map(doble, lista)) == [doble(x) for x in lista]\n",
    "\n",
    "assert list(filter(lambda x: x % 2 == 0, lista)) == [x for x in lista if x % 2 == 0]\n",
    "assert list(filter(es_par, lista)) == [x for x in lista if es_par(x)]"
   ]
  },
  {
   "cell_type": "code",
   "execution_count": 44,
   "metadata": {
    "slideshow": {
     "slide_type": "subslide"
    }
   },
   "outputs": [],
   "source": [
    "matriz = [\n",
    "           [1, 2, 3],\n",
    "           [4, 5, 6],\n",
    "           [7, 8, 9]\n",
    "         ]\n",
    "\n",
    "matriz_t = [[fila[i] for fila in matriz] for i in [0, 1, 2]]\n",
    "assert matriz_t == [\n",
    "                    [1, 4, 7],\n",
    "                    [2, 5, 8],\n",
    "                    [3, 6, 9]\n",
    "                  ]"
   ]
  },
  {
   "cell_type": "markdown",
   "metadata": {
    "slideshow": {
     "slide_type": "subslide"
    }
   },
   "source": [
    "## Tuplas\n",
    "Es una estructura **inmutable** que consiste de un número de valores separados por comas"
   ]
  },
  {
   "cell_type": "code",
   "execution_count": 15,
   "metadata": {
    "slideshow": {
     "slide_type": "fragment"
    }
   },
   "outputs": [],
   "source": [
    "tupla0 = ()                   # pueden estar vacías\n",
    "tupla1 = 1,                   # pueden definirse sin paréntesis (atención a la coma)\n",
    "tupla2 = (1, 'a')             # pueden definirse con paréntesis\n",
    "tupla3 = (1, (2, ['i', 7]))   # pueden anidarse\n",
    "a, b = tupla2                 # desempaquetado de secuencias => a = 1, b = 'a'\n",
    "\n",
    "# las tuplas también están indexadas\n",
    "assert tupla1[0] == 1 and tupla2[1] == 'a' and tupla3[1][0] == 2\n",
    "assert a == 1 and b == 'a'"
   ]
  },
  {
   "cell_type": "markdown",
   "metadata": {
    "slideshow": {
     "slide_type": "subslide"
    }
   },
   "source": [
    "## Conjuntos\n",
    "Consisten en una colección no ordenada y sin elementos repetidos. Sus usos básicos incluyen verificación de pertenencia y eliminación de entradas duplicadas. Los conjuntos también soportan operaciones matemáticas como la unión, intersección, diferencia, y diferencia simétrica."
   ]
  },
  {
   "cell_type": "code",
   "execution_count": 18,
   "metadata": {
    "slideshow": {
     "slide_type": "fragment"
    }
   },
   "outputs": [],
   "source": [
    "lista1 = list(range(10))  # [0, 1, 2, 3, 4, 5, 6, 7, 8, 9]\n",
    "lista2 = [x for x in range(10) if x % 2 != 0]   # [1, 3, 5, 7, 9]\n",
    "lista3 = lista1 + lista2  # [0, 1, 2, 3, 4, 5, 6, 7, 8, 9, 1, 3, 5, 7, 9]\n",
    "unicos = set(lista3)      # {0, 1, 2, 3, 4, 5, 6, 7, 8, 9}\n",
    "assert unicos == {0, 1, 2, 3, 4, 5, 6, 7, 8, 9}\n",
    "\n",
    "# se pueden definir conjuntos por comprensión\n",
    "assert unicos == {x for x in range(10)} == set(range(10))"
   ]
  },
  {
   "cell_type": "code",
   "execution_count": 34,
   "metadata": {
    "slideshow": {
     "slide_type": "fragment"
    }
   },
   "outputs": [],
   "source": [
    "assert {0, 1, 2} | {0, 3, 4} == {0, 1, 2, 3, 4}  # unión\n",
    "assert {0, 1, 2} & {0, 3, 4} == {0}              # intersección\n",
    "assert {0, 1, 2} - {0, 3, 4} == {1, 2}           # diferencia\n",
    "assert {0, 1, 2} ^ {0, 3, 4} == {1, 2, 3, 4}     # diferencia simétrica"
   ]
  },
  {
   "cell_type": "markdown",
   "metadata": {
    "slideshow": {
     "slide_type": "subslide"
    }
   },
   "source": [
    "## Diccionarios\n",
    "A diferencia de las secuencias, que se indexan mediante un rango numérico, los diccionarios se indexan con claves, que pueden ser cualquier tipo inmutable.\n",
    "\n",
    "Lo mejor es pensar en un diccionario como un conjunto no ordenado de pares \"clave: valor\", con el requerimiento de que las claves sean únicas."
   ]
  },
  {
   "cell_type": "code",
   "execution_count": 19,
   "metadata": {
    "slideshow": {
     "slide_type": "fragment"
    }
   },
   "outputs": [],
   "source": [
    "d = {7: 'Domingo', 2: 'Martes', 4: 'Jueves', 1: 'Lunes', 6: 'Sábado', 3: 'Miércoles'}  # definición\n",
    "d[5], d[8] = 'Viernes', 'Redomingo'  # modificación\n",
    "del d[8]  # borrado\n",
    "assert d[7] == d.get(7) == 'Domingo'\n",
    "\n",
    "usuario1 = dict(nombre='Javi', id=12)  # {'nombre': 'Javi', 'id': 12}\n",
    "# usuario1 = {'nombre': 'Javi', 'id': 12}\n",
    "usuario2 = dict([('nombre', 'Javi'), ('id', 12)])  # {'nombre': 'Javi', 'id': 12}\n",
    "\n",
    "# se pueden definir diccionarios por comprensión\n",
    "dc = dict((k, str(v)) for k, v in enumerate(range(4)))  #  {0: '0', 1: '1', 2: '2', 3: '3'}"
   ]
  },
  {
   "cell_type": "markdown",
   "metadata": {
    "slideshow": {
     "slide_type": "subslide"
    }
   },
   "source": [
    "## Iterando\n"
   ]
  },
  {
   "cell_type": "code",
   "execution_count": 36,
   "metadata": {
    "slideshow": {
     "slide_type": "fragment"
    }
   },
   "outputs": [],
   "source": [
    "# diccionarios\n",
    "d = {7: 'Domingo', 2: 'Martes', 4: 'Jueves', 1: 'Lunes', 6: 'Sábado', 3: 'Miércoles'}\n",
    "keys = [key for key in d]  # itera por la clave [1, 2, 3, 4, 6, 7]\n",
    "keys_values = [(key, value) for key, value in d.items()]  # itera por clave y valor [(1, 'Lunes'), ...]"
   ]
  },
  {
   "cell_type": "code",
   "execution_count": 38,
   "metadata": {
    "slideshow": {
     "slide_type": "fragment"
    }
   },
   "outputs": [
    {
     "name": "stdout",
     "output_type": "stream",
     "text": [
      "[(0, 'Ene'), (1, 'Feb'), (2, 'Mar'), (3, 'Abr'), (4, 'May'), (5, 'Jun'), (6, 'Jul'), (7, 'Ago'), (8, 'Sep'), (9, 'Oct'), (10, 'Nov'), (11, 'Dic')]\n"
     ]
    }
   ],
   "source": [
    "# listas\n",
    "l = ['Ene', 'Feb', 'Mar', 'Abr', 'May', 'Jun', 'Jul', 'Ago', 'Sep', 'Oct', 'Nov', 'Dic']\n",
    "meses = [(numero, nombre) for numero, nombre in enumerate(l)]  # [(0, 'Ene'), (1, 'Feb'), ...]\n",
    "print(meses)"
   ]
  },
  {
   "cell_type": "markdown",
   "metadata": {
    "slideshow": {
     "slide_type": "slide"
    }
   },
   "source": [
    "# Funciones"
   ]
  },
  {
   "cell_type": "markdown",
   "metadata": {
    "slideshow": {
     "slide_type": "subslide"
    }
   },
   "source": [
    "## Funciones (I)\n",
    "- La palabra reservada 'def' se usa para definir funciones\n",
    "- Debe seguirle el nombre de la función y la lista de parámetros formales entre paréntesis\n",
    "- Las sentencias que forman el cuerpo de la función empiezan en la línea siguiente, y deben tener sangría\n",
    "- La primera sentencia del cuerpo de la función debería ser un docstring, por convenio\n",
    "- Luego va el cuerpo de la función\n",
    "- Por último, opcionalmente se puede retornar algo\n",
    "- Si no hay sentencia return, la función devuelve None"
   ]
  },
  {
   "cell_type": "code",
   "execution_count": 47,
   "metadata": {},
   "outputs": [],
   "source": [
    "def add2(a, b):\n",
    "    '''\n",
    "    add2(a, b) -> a + b\n",
    "    \n",
    "    Returns de sum of two numbers\n",
    "    '''\n",
    "    \n",
    "    addition = a + b\n",
    "    \n",
    "    return addition"
   ]
  },
  {
   "cell_type": "code",
   "execution_count": 48,
   "metadata": {},
   "outputs": [
    {
     "data": {
      "text/plain": [
       "2"
      ]
     },
     "execution_count": 48,
     "metadata": {},
     "output_type": "execute_result"
    }
   ],
   "source": [
    "add2(1, 1)"
   ]
  },
  {
   "cell_type": "code",
   "execution_count": 49,
   "metadata": {},
   "outputs": [
    {
     "ename": "TypeError",
     "evalue": "add2() missing 1 required positional argument: 'b'",
     "output_type": "error",
     "traceback": [
      "\u001b[1;31m--------------------------------------------------------------------\u001b[0m",
      "\u001b[1;31mTypeError\u001b[0m                          Traceback (most recent call last)",
      "\u001b[1;32m<ipython-input-49-2ae1e927dcac>\u001b[0m in \u001b[0;36m<module>\u001b[1;34m\u001b[0m\n\u001b[0;32m      1\u001b[0m \u001b[1;31m# si no se le pasan todos los parámetros obligatorios\u001b[0m\u001b[1;33m\u001b[0m\u001b[1;33m\u001b[0m\u001b[1;33m\u001b[0m\u001b[0m\n\u001b[0;32m      2\u001b[0m \u001b[1;31m# se producirá un error en tiempo de ejecución\u001b[0m\u001b[1;33m\u001b[0m\u001b[1;33m\u001b[0m\u001b[1;33m\u001b[0m\u001b[0m\n\u001b[1;32m----> 3\u001b[1;33m \u001b[0madd2\u001b[0m\u001b[1;33m(\u001b[0m\u001b[1;36m1\u001b[0m\u001b[1;33m)\u001b[0m\u001b[1;33m\u001b[0m\u001b[1;33m\u001b[0m\u001b[0m\n\u001b[0m",
      "\u001b[1;31mTypeError\u001b[0m: add2() missing 1 required positional argument: 'b'"
     ]
    }
   ],
   "source": [
    "# si no se le pasan todos los parámetros obligatorios\n",
    "# se producirá un error en tiempo de ejecución\n",
    "add2(1)"
   ]
  },
  {
   "cell_type": "markdown",
   "metadata": {
    "slideshow": {
     "slide_type": "subslide"
    }
   },
   "source": [
    "## Funciones (II)\n",
    "- Su ejecución crea una tabla de símbolos para las variables locales\n",
    "- Orden de revisión de las tablas de símbolos:\n",
    "    1. Tabla de símbolos local\n",
    "    2. Tabla de símbolos local de las funciones externas\n",
    "    3. Tabla de símbolos global\n",
    "    4. Tabla de nombres predefinidos"
   ]
  },
  {
   "cell_type": "markdown",
   "metadata": {
    "slideshow": {
     "slide_type": "subslide"
    }
   },
   "source": [
    "## Funciones (III)\n",
    "- Número variable de argumentos\n",
    "- Valores por defecto\n",
    "- Si no se envían todos los parámetros obligatorios -> ¡¡¡ERROR!!!"
   ]
  },
  {
   "cell_type": "code",
   "execution_count": 54,
   "metadata": {
    "slideshow": {
     "slide_type": "fragment"
    }
   },
   "outputs": [
    {
     "name": "stdout",
     "output_type": "stream",
     "text": [
      "args: (1, 2, 3, 4, 5) \n",
      "kwargs: {'a': 'One', 'b': 45}\n"
     ]
    }
   ],
   "source": [
    "# los parámetros args y kwars son opcionales\n",
    "# *args significa que habrá un número indefinido de parámetros sin nombre\n",
    "# dentro de la función nos referiremos a ellos mediante la lista args\n",
    "# **kwargs significa que habrá un número indefinido de parámetros con nombre\n",
    "# dentro de la función nos referiremos a ellos mediante el diccionario kwargs\n",
    "def funcion(*args, **kwargs):\n",
    "    '''\n",
    "    funcion(*args, **kwargs) -> escribe args y kwargs\n",
    "    \n",
    "    Escribe los argumentos que recibe\n",
    "    '''\n",
    "    \n",
    "    print('args:', args, '\\nkwargs:', kwargs)\n",
    "    \n",
    "funcion(1, 2, 3, 4, 5, a='One', b=45)"
   ]
  },
  {
   "cell_type": "code",
   "execution_count": 55,
   "metadata": {
    "scrolled": true
   },
   "outputs": [
    {
     "name": "stdout",
     "output_type": "stream",
     "text": [
      "0\n",
      "6\n",
      "6\n"
     ]
    }
   ],
   "source": [
    "def acumula(valor_inicial, *x):\n",
    "    return valor_inicial + sum(x)\n",
    "\n",
    "print(acumula(0))\n",
    "print(acumula(0, 1, 2, 3))\n",
    "print(acumula(0, *[1, 2, 3]))"
   ]
  },
  {
   "cell_type": "code",
   "execution_count": 56,
   "metadata": {
    "scrolled": false
   },
   "outputs": [
    {
     "ename": "TypeError",
     "evalue": "acumula() missing 1 required positional argument: 'valor_inicial'",
     "output_type": "error",
     "traceback": [
      "\u001b[1;31m--------------------------------------------------------------------\u001b[0m",
      "\u001b[1;31mTypeError\u001b[0m                          Traceback (most recent call last)",
      "\u001b[1;32m<ipython-input-56-4197cf066395>\u001b[0m in \u001b[0;36m<module>\u001b[1;34m\u001b[0m\n\u001b[0;32m      1\u001b[0m \u001b[1;31m# error: acumula tiene un argumento obligatorio\u001b[0m\u001b[1;33m\u001b[0m\u001b[1;33m\u001b[0m\u001b[1;33m\u001b[0m\u001b[0m\n\u001b[1;32m----> 2\u001b[1;33m \u001b[0macumula\u001b[0m\u001b[1;33m(\u001b[0m\u001b[1;33m)\u001b[0m\u001b[1;33m\u001b[0m\u001b[1;33m\u001b[0m\u001b[0m\n\u001b[0m",
      "\u001b[1;31mTypeError\u001b[0m: acumula() missing 1 required positional argument: 'valor_inicial'"
     ]
    }
   ],
   "source": [
    "# error: acumula tiene un argumento obligatorio\n",
    "acumula()"
   ]
  },
  {
   "cell_type": "code",
   "execution_count": 22,
   "metadata": {},
   "outputs": [
    {
     "name": "stdout",
     "output_type": "stream",
     "text": [
      "0\n",
      "6\n",
      "16\n"
     ]
    }
   ],
   "source": [
    "def acumula_v2(*x, valor_inicial=0):\n",
    "    return valor_inicial + sum(x)\n",
    "\n",
    "# la nueva versión no falla sin parámetros\n",
    "# el valor_inicial por defecto es 0\n",
    "print(acumula_v2())\n",
    "print(acumula_v2(1, 2, 3))\n",
    "print(acumula_v2(1, 2, 3, valor_inicial=10))"
   ]
  },
  {
   "cell_type": "markdown",
   "metadata": {
    "slideshow": {
     "slide_type": "subslide"
    }
   },
   "source": [
    "## Funciones (IV)\n",
    "- Desempaquetado de argumentos"
   ]
  },
  {
   "cell_type": "code",
   "execution_count": 23,
   "metadata": {
    "slideshow": {
     "slide_type": "fragment"
    }
   },
   "outputs": [],
   "source": [
    "def mi_rango(start=0, stop=10, step=1):\n",
    "    return range(start, stop, step)\n",
    "\n",
    "# assert comprueba la veracidad de una aserción\n",
    "# si no es cierto se produce un error\n",
    "assert mi_rango(1, 10, 3) == mi_rango(*[1, 10, 3])"
   ]
  },
  {
   "cell_type": "code",
   "execution_count": 25,
   "metadata": {
    "slideshow": {
     "slide_type": "fragment"
    }
   },
   "outputs": [
    {
     "name": "stdout",
     "output_type": "stream",
     "text": [
      "1\n",
      "2\n",
      "[3, 4, 5, 6]\n"
     ]
    }
   ],
   "source": [
    "a, b = (1, 2)\n",
    "assert a == 1 and b == 2\n",
    "a, b, *resto = (1, 2, 3, 4, 5, 6)  # válido en Python 3.x\n",
    "print(a)\n",
    "print(b)\n",
    "print(resto)"
   ]
  },
  {
   "cell_type": "code",
   "execution_count": 26,
   "metadata": {
    "slideshow": {
     "slide_type": "fragment"
    }
   },
   "outputs": [],
   "source": [
    "assert mi_rango(start=1, stop=10, step=3) == mi_rango(**{'start': 1, 'stop': 10, 'step': 3})"
   ]
  },
  {
   "cell_type": "markdown",
   "metadata": {
    "slideshow": {
     "slide_type": "subslide"
    }
   },
   "source": [
    "## Funciones (V)\n",
    "### Funciones lambda\n",
    "Pequeñas funciones anónimas que devuelven una única expresión\n",
    "```python\n",
    "lambda *args, **kwargs: expresion\n",
    "```"
   ]
  },
  {
   "cell_type": "code",
   "execution_count": 27,
   "metadata": {
    "slideshow": {
     "slide_type": "fragment"
    }
   },
   "outputs": [],
   "source": [
    "# niega es una función muy simple\n",
    "# para estos casos puede utilizarse la sintaxis lambda\n",
    "niega = lambda b: not b\n",
    "assert niega(True) == False and niega(False) == True\n",
    "\n",
    "# pero también puede utilizarse directamente en cualquier expresión\n",
    "assert (lambda x: not x)(True) == False"
   ]
  },
  {
   "cell_type": "markdown",
   "metadata": {
    "slideshow": {
     "slide_type": "slide"
    }
   },
   "source": [
    "# Clases\n",
    "- El mecanismo de clases en Python es una mezcla de los de C++ y Modula-3\n",
    "- No existe una separación absoluta entre la definición y el usuario\n",
    "- Todos los miembros de la clase son públicos\n",
    "- Las propias clases son objectos\n",
    "- Todo es un objeto en Python"
   ]
  },
  {
   "cell_type": "markdown",
   "metadata": {
    "slideshow": {
     "slide_type": "subslide"
    }
   },
   "source": [
    "## Nombres y objetos\n",
    "- Los objetos son individuales; pero pueden tener múltiples nombres (aliasing)\n",
    "- No se nota al manejar objetos inmutables (números, cadenas y tuplas)\n",
    "- Pero suele sorprender con los objetos mutables\n",
    "- No se pasan parámetros por valor o referencia como en Pascal"
   ]
  },
  {
   "cell_type": "code",
   "execution_count": 29,
   "metadata": {},
   "outputs": [
    {
     "ename": "TypeError",
     "evalue": "'str' object does not support item assignment",
     "output_type": "error",
     "traceback": [
      "\u001b[1;31m---------------------------------------------------------------------------\u001b[0m",
      "\u001b[1;31mTypeError\u001b[0m                                 Traceback (most recent call last)",
      "\u001b[1;32m<ipython-input-29-32420683b8d4>\u001b[0m in \u001b[0;36m<module>\u001b[1;34m\u001b[0m\n\u001b[0;32m     15\u001b[0m \u001b[1;31m# no hay proceso de compilación que revise sintaxis, ni errores de tipo o referecias\u001b[0m\u001b[1;33m\u001b[0m\u001b[1;33m\u001b[0m\u001b[1;33m\u001b[0m\u001b[0m\n\u001b[0;32m     16\u001b[0m \u001b[1;31m# parecería que se trata de modificar 'H' por 'h'\u001b[0m\u001b[1;33m\u001b[0m\u001b[1;33m\u001b[0m\u001b[1;33m\u001b[0m\u001b[0m\n\u001b[1;32m---> 17\u001b[1;33m \u001b[0mcadena\u001b[0m\u001b[1;33m[\u001b[0m\u001b[1;36m0\u001b[0m\u001b[1;33m]\u001b[0m \u001b[1;33m=\u001b[0m \u001b[1;34m'h'\u001b[0m\u001b[1;33m\u001b[0m\u001b[1;33m\u001b[0m\u001b[0m\n\u001b[0m",
      "\u001b[1;31mTypeError\u001b[0m: 'str' object does not support item assignment"
     ]
    }
   ],
   "source": [
    "# en Python no se habla de variables\n",
    "# se habla de identificadores\n",
    "# aunque es muy habitual hablar de variables por la cultura\n",
    "# heredada de otros lenguajes\n",
    "# un identificador es un nombre que se le pone a un objeto\n",
    "# no es un puntero a una dirección de memoria en la que se guarda un valor\n",
    "\n",
    "# \"cadena\" es un identificador del objeto 'Hola'\n",
    "# 'Hola' es una cadena de texto, lo que significa que es inmutable\n",
    "cadena = 'Hola'\n",
    "\n",
    "# tratar de modificarla producirá un error en tiempo de ejecución\n",
    "# en Python todos los errores se producen en tiempo de ejecución\n",
    "# porque es un lenguaje interpretado\n",
    "# no hay proceso de compilación que revise sintaxis, ni errores de tipo o referecias\n",
    "# parecería que se trata de modificar 'H' por 'h'\n",
    "cadena[0] = 'h'"
   ]
  },
  {
   "cell_type": "code",
   "execution_count": 30,
   "metadata": {},
   "outputs": [
    {
     "name": "stdout",
     "output_type": "stream",
     "text": [
      "hola\n"
     ]
    }
   ],
   "source": [
    "# eso no significa que el identificador no pueda apuntar\n",
    "# a otro objeto nuevo con el valor deseado\n",
    "cadena = 'h' + cadena[1:]\n",
    "print(cadena)\n",
    "\n",
    "# el antiguo valor al que apuntaba cadena se pierde\n",
    "# y el gestor de memoria de Python recuperará ese espacio"
   ]
  },
  {
   "cell_type": "code",
   "execution_count": 31,
   "metadata": {},
   "outputs": [
    {
     "name": "stdout",
     "output_type": "stream",
     "text": [
      "['h', 2, 3]\n"
     ]
    }
   ],
   "source": [
    "# veamos qué pasa con un objeto mutable\n",
    "lista = [1, 2, 3]\n",
    "lista[0] = 'h'\n",
    "print(lista)"
   ]
  },
  {
   "cell_type": "code",
   "execution_count": 58,
   "metadata": {
    "slideshow": {
     "slide_type": "fragment"
    }
   },
   "outputs": [
    {
     "name": "stdout",
     "output_type": "stream",
     "text": [
      "a 1\n",
      "l [2, 3, 4]\n"
     ]
    }
   ],
   "source": [
    "# \"a\" apunta a un objeto inmutable\n",
    "a = 1\n",
    "# \"l\" apunta a un objeto mutable\n",
    "l = [1, 2, 3]\n",
    "incn = lambda x: x + 1\n",
    "\n",
    "def incns(ns):\n",
    "    '''\n",
    "    lista_de_numeros -> None\n",
    "    \n",
    "    incrementa cada elemento de la lista\n",
    "    '''\n",
    "    \n",
    "    for i, n in enumerate(ns):\n",
    "        ns[i] = incn(ns[i])\n",
    "\n",
    "incn(a)\n",
    "# a no cambiará de valor tras ejecutar incn(a)\n",
    "print('a', a)\n",
    "\n",
    "incns(l)\n",
    "# l cambiará de valor tras ejecutar incns(l)\n",
    "print('l', l)"
   ]
  },
  {
   "cell_type": "markdown",
   "metadata": {
    "slideshow": {
     "slide_type": "subslide"
    }
   },
   "source": [
    "## Sintaxis de una clase\n",
    "```python\n",
    "class Clase:\n",
    "    <declaración-1>\n",
    "    .\n",
    "    .\n",
    "    .\n",
    "    <declaración-N>\n",
    "```"
   ]
  },
  {
   "cell_type": "markdown",
   "metadata": {
    "slideshow": {
     "slide_type": "subslide"
    }
   },
   "source": [
    "## Objetos class\n",
    "- Soportan dos tipos de operaciones\n",
    "  1. Instanciación: creación de un nuevo objeto\n",
    "  2. Acceso a sus atributos"
   ]
  },
  {
   "cell_type": "code",
   "execution_count": 36,
   "metadata": {
    "scrolled": true,
    "slideshow": {
     "slide_type": "fragment"
    }
   },
   "outputs": [
    {
     "data": {
      "text/plain": [
       "['__class__',\n",
       " '__delattr__',\n",
       " '__dict__',\n",
       " '__dir__',\n",
       " '__doc__',\n",
       " '__eq__',\n",
       " '__format__',\n",
       " '__ge__',\n",
       " '__getattribute__',\n",
       " '__gt__',\n",
       " '__hash__',\n",
       " '__init__',\n",
       " '__init_subclass__',\n",
       " '__le__',\n",
       " '__lt__',\n",
       " '__module__',\n",
       " '__ne__',\n",
       " '__new__',\n",
       " '__reduce__',\n",
       " '__reduce_ex__',\n",
       " '__repr__',\n",
       " '__setattr__',\n",
       " '__sizeof__',\n",
       " '__str__',\n",
       " '__subclasshook__',\n",
       " '__weakref__',\n",
       " 'f',\n",
       " 'n']"
      ]
     },
     "execution_count": 36,
     "metadata": {},
     "output_type": "execute_result"
    }
   ],
   "source": [
    "class MiClase:\n",
    "    '''\n",
    "    Clase de ejemplo\n",
    "    \n",
    "    Esta clase tiene un atributo de datos, o propiedad, común a todas sus instancias\n",
    "    Y un atributo de método o método\n",
    "    '''\n",
    "    \n",
    "    n = 1           # atributo de datos, o propiedad n, común a todas las instancias\n",
    "    \n",
    "    def f(self):    # atributo de método o método f\n",
    "        # el primer argumento es una referencia al objeto\n",
    "        # por convenio es self\n",
    "        return 'Hola'\n",
    "\n",
    "x = MiClase()    # instanciación\n",
    "mensaje = x.f()  # acceso a atributos\n",
    "\n",
    "# la función dir recibe un objeto y devuelve su lista de atributos\n",
    "dir(x)           # lista de atributos de la instancia x"
   ]
  },
  {
   "cell_type": "code",
   "execution_count": 39,
   "metadata": {
    "scrolled": true
   },
   "outputs": [
    {
     "data": {
      "text/plain": [
       "['__class__',\n",
       " '__delattr__',\n",
       " '__dict__',\n",
       " '__dir__',\n",
       " '__doc__',\n",
       " '__eq__',\n",
       " '__format__',\n",
       " '__ge__',\n",
       " '__getattribute__',\n",
       " '__gt__',\n",
       " '__hash__',\n",
       " '__init__',\n",
       " '__init_subclass__',\n",
       " '__le__',\n",
       " '__lt__',\n",
       " '__module__',\n",
       " '__ne__',\n",
       " '__new__',\n",
       " '__reduce__',\n",
       " '__reduce_ex__',\n",
       " '__repr__',\n",
       " '__setattr__',\n",
       " '__sizeof__',\n",
       " '__str__',\n",
       " '__subclasshook__',\n",
       " '__weakref__',\n",
       " 'f',\n",
       " 'n']"
      ]
     },
     "execution_count": 39,
     "metadata": {},
     "output_type": "execute_result"
    }
   ],
   "source": [
    "# MiClase también es un objeto, como todo en Python\n",
    "# también puedo explorar sus atributos\n",
    "dir(MiClase)"
   ]
  },
  {
   "cell_type": "markdown",
   "metadata": {
    "slideshow": {
     "slide_type": "subslide"
    }
   },
   "source": [
    "## Objetos con estado inicial\n",
    "Algunos objetos necesitan instarciarse con un estado inicial\n",
    "\n",
    "Para ello se utiliza un método especial llamado ``__init__``\n",
    "\n",
    "Dicho método se llama automáticamente al crear una instancia"
   ]
  },
  {
   "cell_type": "code",
   "execution_count": 40,
   "metadata": {
    "slideshow": {
     "slide_type": "fragment"
    }
   },
   "outputs": [
    {
     "data": {
      "text/plain": [
       "['__class__',\n",
       " '__delattr__',\n",
       " '__dict__',\n",
       " '__dir__',\n",
       " '__doc__',\n",
       " '__eq__',\n",
       " '__format__',\n",
       " '__ge__',\n",
       " '__getattribute__',\n",
       " '__gt__',\n",
       " '__hash__',\n",
       " '__init__',\n",
       " '__init_subclass__',\n",
       " '__le__',\n",
       " '__lt__',\n",
       " '__module__',\n",
       " '__ne__',\n",
       " '__new__',\n",
       " '__reduce__',\n",
       " '__reduce_ex__',\n",
       " '__repr__',\n",
       " '__setattr__',\n",
       " '__sizeof__',\n",
       " '__str__',\n",
       " '__subclasshook__',\n",
       " '__weakref__',\n",
       " 'categoria',\n",
       " 'edad',\n",
       " 'nombre',\n",
       " 'presentar']"
      ]
     },
     "execution_count": 40,
     "metadata": {},
     "output_type": "execute_result"
    }
   ],
   "source": [
    "class Persona:\n",
    "    '''Objeto persona'''\n",
    "      \n",
    "    categoria = 'Humano'  # propiedad la clase\n",
    "     \n",
    "    def __init__(self, nombre, edad):\n",
    "        # método de inicialización de la instancia\n",
    "        self.nombre = nombre  # propiedad de la instancia\n",
    "        self.edad = edad      # propiedad de la instancia\n",
    "    \n",
    "    def presentar(self):\n",
    "        # método\n",
    "        return u'Hola, soy %s y tengo %s años' % (self.nombre, self.edad)\n",
    "\n",
    "ana = Persona('Ana', 37)\n",
    "dir(ana)"
   ]
  },
  {
   "cell_type": "markdown",
   "metadata": {
    "slideshow": {
     "slide_type": "subslide"
    }
   },
   "source": [
    "## Herencia\n",
    "```python\n",
    "class ClaseDerivada(ClaseBase):\n",
    "    <declaración-1>\n",
    "    .\n",
    "    .\n",
    "    .\n",
    "    <declaración-N>\n",
    "    \n",
    "class ClaseDerivada(Base1, Base2, Base3):\n",
    "    <declaración-1>\n",
    "    .\n",
    "    .\n",
    "    .\n",
    "    <declaración-N>\n",
    "```"
   ]
  },
  {
   "cell_type": "markdown",
   "metadata": {
    "slideshow": {
     "slide_type": "subslide"
    }
   },
   "source": [
    "## Variables privadas\n",
    "- No hay. Has leído bien, ¡NO HAY!\n",
    "- Por convenio, si empieza por _, es privada"
   ]
  },
  {
   "cell_type": "code",
   "execution_count": 43,
   "metadata": {
    "slideshow": {
     "slide_type": "fragment"
    }
   },
   "outputs": [
    {
     "data": {
      "text/plain": [
       "['__class__',\n",
       " '__delattr__',\n",
       " '__dict__',\n",
       " '__dir__',\n",
       " '__doc__',\n",
       " '__eq__',\n",
       " '__format__',\n",
       " '__ge__',\n",
       " '__getattribute__',\n",
       " '__gt__',\n",
       " '__hash__',\n",
       " '__init__',\n",
       " '__init_subclass__',\n",
       " '__le__',\n",
       " '__lt__',\n",
       " '__module__',\n",
       " '__ne__',\n",
       " '__new__',\n",
       " '__reduce__',\n",
       " '__reduce_ex__',\n",
       " '__repr__',\n",
       " '__setattr__',\n",
       " '__sizeof__',\n",
       " '__str__',\n",
       " '__subclasshook__',\n",
       " '__weakref__',\n",
       " '_num_ruedas',\n",
       " 'marca',\n",
       " 'matricula',\n",
       " 'modelo']"
      ]
     },
     "execution_count": 43,
     "metadata": {},
     "output_type": "execute_result"
    }
   ],
   "source": [
    "class Coche:\n",
    "    # existe un convenio que dice que si un atributo o método\n",
    "    # comienza por '_', \"debe tratarse como privado\"\n",
    "    _num_ruedas = 4\n",
    "    \n",
    "    def __init__(self, marca, modelo, matricula):\n",
    "        self.marca = marca\n",
    "        self.modelo = modelo\n",
    "        self.matricula = matricula\n",
    "\n",
    "mi_coche = Coche('Seat', 'Grijota', '5432 XYZ')\n",
    "mi_coche._num_ruedas = 5\n",
    "dir(mi_coche)"
   ]
  },
  {
   "cell_type": "markdown",
   "metadata": {
    "slideshow": {
     "slide_type": "subslide"
    }
   },
   "source": [
    "## Clases sobre la marcha"
   ]
  },
  {
   "cell_type": "code",
   "execution_count": 44,
   "metadata": {},
   "outputs": [],
   "source": [
    "class Foo:\n",
    "    pass\n",
    "\n",
    "# instancio la clase Foo\n",
    "f = Foo()\n",
    "\n",
    "# añado atributos a la instancia sobre la marcha\n",
    "f.nombre = 'Carlos'\n",
    "f.edad = 34"
   ]
  },
  {
   "cell_type": "markdown",
   "metadata": {
    "slideshow": {
     "slide_type": "subslide"
    }
   },
   "source": [
    "## Evaluación perezosa\n",
    "- En ocasiones, hay estructuras de datos enormes, que consumen mucha memoria\n",
    "- Las podemos recorrer de modo perezoso\n",
    "  - En cada ciclo se evalúa la parte que se necesita\n",
    "  \n",
    "```python\n",
    "with open(fichero) as fh:    # fh permite iterar sobre el fichero\n",
    "    for linea in fh:         # el bucle recorre las líneas de una en una\n",
    "        trata_linea(linea)   # poco consumo de memoria\n",
    "```"
   ]
  },
  {
   "cell_type": "markdown",
   "metadata": {
    "slideshow": {
     "slide_type": "subslide"
    }
   },
   "source": [
    "## Expresiones generadoras\n",
    "- Llevan las listas por compresión al mundo de la evaluación perezosa"
   ]
  },
  {
   "cell_type": "code",
   "execution_count": 63,
   "metadata": {
    "slideshow": {
     "slide_type": "fragment"
    }
   },
   "outputs": [
    {
     "name": "stdout",
     "output_type": "stream",
     "text": [
      "range(0, 10)\n"
     ]
    }
   ],
   "source": [
    "lista_a = range(10)                  # los elementos se crean en el momento que se evalúa\n",
    "lista_b = (x * x for x in lista_a)   # los elementos se crean cuando se van solicitando\n",
    "\n",
    "print(lista_a)"
   ]
  },
  {
   "cell_type": "code",
   "execution_count": 64,
   "metadata": {},
   "outputs": [
    {
     "name": "stdout",
     "output_type": "stream",
     "text": [
      "<generator object <genexpr> at 0x000002419A3BD6C8>\n"
     ]
    }
   ],
   "source": [
    "print(lista_b)"
   ]
  },
  {
   "cell_type": "code",
   "execution_count": 65,
   "metadata": {},
   "outputs": [
    {
     "name": "stdout",
     "output_type": "stream",
     "text": [
      "[0, 1, 4, 9, 16, 25, 36, 49, 64, 81]\n"
     ]
    }
   ],
   "source": [
    "# para obtener los elementos hay que recorrer el generador hasta su fin\n",
    "# lo más fácil es transformarlo en una lista\n",
    "print(list(lista_b))"
   ]
  },
  {
   "cell_type": "code",
   "execution_count": 58,
   "metadata": {},
   "outputs": [
    {
     "name": "stdout",
     "output_type": "stream",
     "text": [
      "[]\n"
     ]
    }
   ],
   "source": [
    "# una vez recorrido, el generador queda exhausto\n",
    "print(list(lista_b))"
   ]
  },
  {
   "cell_type": "markdown",
   "metadata": {
    "slideshow": {
     "slide_type": "subslide"
    }
   },
   "source": [
    "## Generadores\n",
    "- Se escriben como funciones\n",
    "- Utilizan la sentencia yield para devolver items\n",
    "- En cada next() se devuelve un item\n",
    "- Se recuerda el contexto de la función"
   ]
  },
  {
   "cell_type": "code",
   "execution_count": 1,
   "metadata": {
    "slideshow": {
     "slide_type": "subslide"
    }
   },
   "outputs": [
    {
     "name": "stdout",
     "output_type": "stream",
     "text": [
      "1\n",
      "2\n",
      "3\n",
      "4\n",
      "5\n",
      "6\n",
      "7\n",
      "8\n",
      "9\n",
      "10\n"
     ]
    }
   ],
   "source": [
    "def cuenta(n=1):\n",
    "    inicio = n\n",
    "    while True:\n",
    "        # estructura infinita\n",
    "        yield inicio\n",
    "        inicio = inicio + 1\n",
    "\n",
    "c = cuenta()\n",
    "for i in range(10):\n",
    "    print(next(c),)\n",
    "\n",
    "# bucle infinito\n",
    "# for i in c:\n",
    "#     print i"
   ]
  },
  {
   "cell_type": "markdown",
   "metadata": {},
   "source": [
    "## Decoradores\n",
    "Un decorador es un ejecutable, callable en Python, que modifica a otro, sin alterar su código fuente. Un ejemplo sencillo es el de una función que modifica a otra\n",
    "\n",
    "En Python un \"callable\" es cualquier función o método"
   ]
  },
  {
   "cell_type": "code",
   "execution_count": 68,
   "metadata": {},
   "outputs": [
    {
     "data": {
      "text/plain": [
       "3"
      ]
     },
     "execution_count": 68,
     "metadata": {},
     "output_type": "execute_result"
    }
   ],
   "source": [
    "def suma(x, y):\n",
    "    return x + y\n",
    "\n",
    "def muestra_argumentos(funcion_a_decorar):\n",
    "    def funcion_decorada(x, y):\n",
    "        print('x:', x, 'y:', y)\n",
    "        return funcion_a_decorar(x, y)\n",
    "    \n",
    "    return funcion_decorada\n",
    "\n",
    "suma(1, 2)"
   ]
  },
  {
   "cell_type": "code",
   "execution_count": 69,
   "metadata": {},
   "outputs": [
    {
     "name": "stdout",
     "output_type": "stream",
     "text": [
      "x: 1 y: 2\n"
     ]
    },
    {
     "data": {
      "text/plain": [
       "3"
      ]
     },
     "execution_count": 69,
     "metadata": {},
     "output_type": "execute_result"
    }
   ],
   "source": [
    "nueva_suma = muestra_argumentos(suma)\n",
    "nueva_suma(1, 2)"
   ]
  },
  {
   "cell_type": "code",
   "execution_count": 70,
   "metadata": {},
   "outputs": [
    {
     "name": "stdout",
     "output_type": "stream",
     "text": [
      "x: 3 y: 2\n"
     ]
    },
    {
     "data": {
      "text/plain": [
       "1"
      ]
     },
     "execution_count": 70,
     "metadata": {},
     "output_type": "execute_result"
    }
   ],
   "source": [
    "@muestra_argumentos\n",
    "def resta(x, y):\n",
    "    return x - y\n",
    "\n",
    "resta(3, 2)"
   ]
  },
  {
   "cell_type": "markdown",
   "metadata": {
    "slideshow": {
     "slide_type": "slide"
    }
   },
   "source": [
    "# Módulos y paquetes\n",
    "- Un módulo es un fichero con código Python\n",
    "- Los paquetes permiten organizar el código en distintos ficheros/directorios\n",
    "```shell\n",
    "sound/                          Paquete superior\n",
    "      __init__.py               Inicializa el paquete de sonido\n",
    "      formats/                  Subpaquete para conversiones de formato\n",
    "              __init__.py\n",
    "              wavread.py\n",
    "              wavwrite.py\n",
    "              aiffread.py\n",
    "              aiffwrite.py\n",
    "              auread.py\n",
    "              auwrite.py\n",
    "              ...\n",
    "      effects/                  Subpaquete para efectos de sonido\n",
    "              __init__.py\n",
    "              echo.py\n",
    "              surround.py\n",
    "              reverse.py\n",
    "              ...\n",
    "```"
   ]
  },
  {
   "cell_type": "markdown",
   "metadata": {
    "slideshow": {
     "slide_type": "subslide"
    }
   },
   "source": [
    "## [Biblioteca estándar](https://docs.python.org/2/library/index.html)\n",
    "- Conjunto básico de módulos python\n",
    "- Están en todas las instalaciones de Python\n",
    "- Algunos módulos dependen de la plataforma y están únicamente en la que corresponde\n"
   ]
  }
 ],
 "metadata": {
  "kernelspec": {
   "display_name": "Python 3",
   "language": "python",
   "name": "python3"
  },
  "language_info": {
   "codemirror_mode": {
    "name": "ipython",
    "version": 3
   },
   "file_extension": ".py",
   "mimetype": "text/x-python",
   "name": "python",
   "nbconvert_exporter": "python",
   "pygments_lexer": "ipython3",
   "version": "3.7.9"
  }
 },
 "nbformat": 4,
 "nbformat_minor": 4
}
