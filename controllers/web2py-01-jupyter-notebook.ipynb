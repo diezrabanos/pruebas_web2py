{
 "cells": [
  {
   "cell_type": "markdown",
   "metadata": {},
   "source": [
    "![Logo](images/poweredbyjupyter-rec-nobg.png)"
   ]
  },
  {
   "cell_type": "markdown",
   "metadata": {},
   "source": [
    "# Jupyter Notebook\n",
    "\n",
    "http://jupyter.org/index.html\n",
    "\n",
    "http://jupyter.org/documentation\n",
    "\n",
    "Tutoriales\n",
    "- https://www.datacamp.com/community/tutorials/tutorial-jupyter-notebook\n",
    "- http://nbviewer.jupyter.org/github/ipython/ipython/blob/3.x/examples/Notebook/Index.ipynb\n",
    "\n",
    "El proyecto Jupyter es un proyecto open-source, sin ánimo de lucro, nacido del proyecto Ipython en 2014. Ha evolucionado para dar soporte interactivo a la ciencia de datos y a la computación científica a través de varios lenguajes de programación. Jupyter siempre será 100% open-source, libre/gratis para cualquier uso y emitido bajo los liberales términos del la licencia BSD modificada.\n",
    "\n",
    "Jupyter se desarrolla en GitHub, mediante el consenso de la comunidad.\n",
    "\n",
    "Jupyter es un acrónimo formado por los nombres de los lenguajes con los que arrancó el proyecto:\n",
    "- Julia\n",
    "- Python\n",
    "- R\n",
    "\n",
    "## Historia\n",
    " - 1991 python\n",
    " - 2001 ipython (shell interactiva, qtconsole)\n",
    " - 2011 ipython notebook (shell interactiva, qtconsole, notebook)\n",
    " - 2012 jupyter notebook\n",
    " - Furuto JupyterHub, JupyterLab, nbgrader ...\n",
    "\n",
    "## ¿Qué es Jupyter Notebook?\n",
    "Es una aplicación cliente-servidor que permite ejecutar y editar notebooks desde un navegador web\n",
    "\n",
    "![Imagen](http://jupyter.readthedocs.io/en/latest/_images/notebook_components.png)\n",
    "\n",
    "## ¿Qué es un notebook?\n",
    "- Es un fichero JSON (.ipynb), cuyos datos binarios se codifican en base64, lo que hace que sea muy fácil de compartir\n",
    "- Es un documento que puede contener código ejecutable y otros elementos, como texto enriquecido, imágenes, ecuaciones, enlaces,...\n",
    "- Está conectado a un kernel que es el encargado de ejecutar el código\n",
    "- Está compuesto por celdas que se ejecutan con `Shift+Intro` o `Ctrl+Intro`.\n",
    "  - Tipos de celdas:\n",
    "    - Código: Contienen código ejecutable por el kernel asociado al notebook\n",
    "    - Markdown: Contienen texto en formato Markdown. Pueden contener LaTeX\n",
    "    - Raw convert\n",
    "    - Heading\n",
    "- Pueden exportarse a HTML, reStructeredText, LaTeX, PDF, y presentaciones (reveal.js), mediante  la utilidad nbconvert\n",
    "\n",
    "## ¿Qué es un kernel?\n",
    "Es un motor computacional que ejecuta el código contenido en un notebook. El primero fue IPython, pero hay [muchos otros](https://github.com/jupyter/jupyter/wiki/Jupyter-kernels)\n",
    "\n",
    "## Instalación\n",
    "- Requisitos: Python\n",
    "- Hay varias formas de instalarlo\n",
    "  - Python\n",
    "  - Pip\n",
    "  - Anaconda\n",
    "  - Docker\n",
    "  - ...\n",
    "\n",
    "```\n",
    "# Usaremos pip\n",
    "$ pip install notebook\n",
    "```\n",
    "\n",
    "## Arrancando\n",
    "```\n",
    "$ jupyter notebook\n",
    "```\n",
    "Se mostrará información en la terminal, incluyendo la URL de la aplicación web (por defecto, http://localhost:8888), que será abierta con el navegador web del sistema por defecto (si lo hubiera)\n",
    "\n",
    "El navegador por defecto cargará la aplicación web cliente que realiza las tareas de interfaz con el servidor. Incluye una consola de administración y ayuda (visita esta última)\n",
    "\n",
    "Esta aplicación nos permite trabajar con nuestros notebooks"
   ]
  },
  {
   "cell_type": "markdown",
   "metadata": {},
   "source": [
    "### Ejecutar código\n",
    "Una vez hayamos creado o abierto un notebook, que estará conectado al kernel que hayamos elegido, podremos ejecutar código en dicho kernel. Para ello basta con escribirlo en una celda de tipo _code_ y ejecutarlo pulsando en el botón de la barra de herramientas, o `Ctrl+Enter`, o `Shift+Enter`, o `Alt+Enter`\n",
    "\n",
    "Las celdas de código contienen un área de entrada, en el que escribimos el código a ejecutar. Pueden contener un área de salida, si dicho código la produce (stdout y stderr van al área de salida)\n",
    "\n",
    "La salida es asíncrona. Si es muy larga, se colapsa automáticamente"
   ]
  },
  {
   "cell_type": "code",
   "execution_count": 1,
   "metadata": {},
   "outputs": [],
   "source": [
    "# esta celda no produce ninguna salida\n",
    "a = 2"
   ]
  },
  {
   "cell_type": "code",
   "execution_count": 2,
   "metadata": {},
   "outputs": [
    {
     "name": "stdout",
     "output_type": "stream",
     "text": [
      "Hola\n"
     ]
    }
   ],
   "source": [
    "# esta si\n",
    "print('Hola')"
   ]
  },
  {
   "cell_type": "code",
   "execution_count": 3,
   "metadata": {
    "scrolled": true
   },
   "outputs": [
    {
     "name": "stdout",
     "output_type": "stream",
     "text": [
      "0\n",
      "1\n",
      "2\n",
      "3\n",
      "4\n",
      "5\n",
      "6\n",
      "7\n"
     ]
    }
   ],
   "source": [
    "import time\n",
    "import sys\n",
    "\n",
    "for i in range(8):\n",
    "    print(i)\n",
    "    time.sleep(0.5)"
   ]
  },
  {
   "cell_type": "markdown",
   "metadata": {},
   "source": [
    "### Gestionando el kernel\n",
    "Es posible cambiar de kernel, detenerlo, arrancarlo, etc, desde la opción del menú _Kernel_"
   ]
  },
  {
   "cell_type": "markdown",
   "metadata": {},
   "source": [
    "### Markdown\n",
    "Las celdas de este tipo contendrán texto en [dicho formato](http://daringfireball.net/projects/markdown/), además de permitir el uso de LaTeX\n",
    "\n",
    "### LaTeX\n",
    "```\n",
    "$$c = \\sqrt{a^2 + b^2}$$\n",
    "```\n",
    "\n",
    "$$c = \\sqrt{a^2 + b^2}$$"
   ]
  },
  {
   "cell_type": "markdown",
   "metadata": {},
   "source": [
    "### Teorema de Pitágoras"
   ]
  },
  {
   "cell_type": "code",
   "execution_count": 4,
   "metadata": {},
   "outputs": [
    {
     "data": {
      "text/markdown": [
       "### Teorema de Pitágoras"
      ],
      "text/plain": [
       "<IPython.core.display.Markdown object>"
      ]
     },
     "metadata": {},
     "output_type": "display_data"
    }
   ],
   "source": [
    "# Se puede mostrar LaTeX y Markdown por codigo\n",
    "from IPython.display import display, Math, Latex, Markdown\n",
    "display(Markdown('### Teorema de Pitágoras'))"
   ]
  },
  {
   "cell_type": "code",
   "execution_count": 5,
   "metadata": {},
   "outputs": [
    {
     "data": {
      "text/latex": [
       "$\\displaystyle h=\\sqrt{c_1^2 + c_2^2}$"
      ],
      "text/plain": [
       "<IPython.core.display.Math object>"
      ]
     },
     "metadata": {},
     "output_type": "display_data"
    }
   ],
   "source": [
    "display(Math(r'h=\\sqrt{c_1^2 + c_2^2}'))"
   ]
  },
  {
   "cell_type": "markdown",
   "metadata": {},
   "source": [
    "### Trucos de magia con Jupyter Notebook\n",
    "\n",
    "#### Comandos del SO\n",
    "Es posible ejecutar comandos del sistema operativo, para ello basta con escribir, en una celda de tipo _Code_ el comando en cuestión, precedido del símbolo !\n",
    "```\n",
    "!dir\n",
    "```\n",
    "Se puede asignar la salida del comando a un identificador que puede ser utilizado en el código del notebook\n",
    "```python\n",
    "h = !hostname\n",
    "print('Hostname: ', h)\n",
    "```\n",
    "También es posible mezclar código Python (o del kernel oportuno) con los comandos del SO. Para ello, utilizamos {} para integrar el código Python\n",
    "```python\n",
    "for i in range(3):\n",
    "    !echo {i}\n",
    "```"
   ]
  },
  {
   "cell_type": "code",
   "execution_count": 7,
   "metadata": {},
   "outputs": [
    {
     "name": "stdout",
     "output_type": "stream",
     "text": [
      "Hostname:  ['DESKTOP-HB0SJNP']\n"
     ]
    }
   ],
   "source": [
    "h = !hostname\n",
    "print('Hostname: ', h)"
   ]
  },
  {
   "cell_type": "code",
   "execution_count": 8,
   "metadata": {},
   "outputs": [
    {
     "name": "stdout",
     "output_type": "stream",
     "text": [
      "0\n",
      "1\n",
      "2\n"
     ]
    }
   ],
   "source": [
    "# código Python\n",
    "for i in range(3):\n",
    "    # llamo a un comando del SO\n",
    "    !echo {i}"
   ]
  },
  {
   "cell_type": "markdown",
   "metadata": {},
   "source": [
    "### Ipython magic system %\n",
    "[Comandos mágicos](magic-commands.ipynb)\n",
    "\n",
    "Se trata de una serie de extensiones de IPython que le añaden funcionalidad. Todas ellas comienzan con %\n",
    "\n",
    "```\n",
    "# muestra la lista de comandos mágicos\n",
    "%lsmagic\n",
    "# muestra información\n",
    "%magic\n",
    "```\n",
    "\n",
    "Hay utilidades de línea (empiezan por %), o de celda (empiezan por %%)\n",
    "\n",
    "Poniendo el símbolo ? delante del comando, se obtiene una ayuda\n",
    "\n",
    "Se pueden cargar más comandos creados por [otros](https://github.com/ipython/ipython/wiki/Extensions-Index), así como [crear los que se necesiten](http://ipython.readthedocs.io/en/stable/config/custommagics.html)\n"
   ]
  },
  {
   "cell_type": "code",
   "execution_count": 10,
   "metadata": {
    "scrolled": true
   },
   "outputs": [
    {
     "data": {
      "text/html": [
       "<p>Puedes utilizar toda la potencia de HTML en tu notebook</p>\n",
       "<h1>Hola</h1>\n",
       "<image src=\"data:image/jpeg;base64,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\">\n"
      ],
      "text/plain": [
       "<IPython.core.display.HTML object>"
      ]
     },
     "metadata": {},
     "output_type": "display_data"
    }
   ],
   "source": [
    "%%HTML\n",
    "<p>Puedes utilizar toda la potencia de HTML en tu notebook</p>\n",
    "<h1>Hola</h1>\n",
    "<image src=\"data:image/jpeg;base64,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\">"
   ]
  },
  {
   "cell_type": "code",
   "execution_count": 11,
   "metadata": {},
   "outputs": [
    {
     "data": {
      "image/svg+xml": [
       "<svg baseProfile=\"full\" height=\"200\" version=\"1.1\" width=\"300\" xmlns=\"http://www.w3.org/2000/svg\">\n",
       "\n",
       "  <rect fill=\"red\" height=\"100%\" width=\"100%\"/>\n",
       "\n",
       "  <circle cx=\"150\" cy=\"100\" fill=\"green\" r=\"80\"/>\n",
       "  \n",
       "  <text fill=\"white\" font-size=\"60\" text-anchor=\"middle\" x=\"150\" y=\"125\">SVG</text>\n",
       "</svg>"
      ],
      "text/plain": [
       "<IPython.core.display.SVG object>"
      ]
     },
     "metadata": {},
     "output_type": "display_data"
    }
   ],
   "source": [
    "%%SVG\n",
    "<svg version=\"1.1\"\n",
    "     baseProfile=\"full\"\n",
    "     width=\"300\" height=\"200\"\n",
    "     xmlns=\"http://www.w3.org/2000/svg\">\n",
    "\n",
    "  <rect width=\"100%\" height=\"100%\" fill=\"red\" />\n",
    "\n",
    "  <circle cx=\"150\" cy=\"100\" r=\"80\" fill=\"green\" />\n",
    "  \n",
    "  <text x=\"150\" y=\"125\" font-size=\"60\" text-anchor=\"middle\" fill=\"white\">SVG</text>\n",
    "</svg>"
   ]
  },
  {
   "cell_type": "code",
   "execution_count": 12,
   "metadata": {},
   "outputs": [
    {
     "data": {
      "image/svg+xml": [
       "<svg baseProfile=\"full\" height=\"200\" version=\"1.1\" width=\"300\" xmlns=\"http://www.w3.org/2000/svg\">\n",
       "\n",
       "  <rect fill=\"red\" height=\"100%\" width=\"100%\"/>\n",
       "\n",
       "  <circle cx=\"150\" cy=\"100\" fill=\"green\" r=\"80\"/>\n",
       "  \n",
       "  <text fill=\"white\" font-size=\"60\" text-anchor=\"middle\" x=\"150\" y=\"125\">Hola</text>\n",
       "</svg>"
      ],
      "text/plain": [
       "<IPython.core.display.SVG object>"
      ]
     },
     "metadata": {},
     "output_type": "display_data"
    }
   ],
   "source": [
    "from IPython.display import SVG\n",
    "\n",
    "\n",
    "txt = 'Hola'\n",
    "svg = \\\n",
    "'''\n",
    "<svg version=\"1.1\"\n",
    "     baseProfile=\"full\"\n",
    "     width=\"300\" height=\"200\"\n",
    "     xmlns=\"http://www.w3.org/2000/svg\">\n",
    "\n",
    "  <rect width=\"100%\" height=\"100%\" fill=\"red\" />\n",
    "\n",
    "  <circle cx=\"150\" cy=\"100\" r=\"80\" fill=\"green\" />\n",
    "  \n",
    "  <text x=\"150\" y=\"125\" font-size=\"60\" text-anchor=\"middle\" fill=\"white\">{0}</text>\n",
    "</svg>\n",
    "'''\n",
    "\n",
    "display(SVG(svg.format(txt)))"
   ]
  },
  {
   "cell_type": "markdown",
   "metadata": {},
   "source": [
    "### Visualización\n",
    "http://ipython.readthedocs.io/en/stable/config/integrating.html\n",
    "\n",
    "Mediante el uso de sus comandos mágicos, Ipython es capaz de mostrar varios formatos en un notebook. Pero también nos permite hacerlo mediante código."
   ]
  },
  {
   "cell_type": "code",
   "execution_count": null,
   "metadata": {},
   "outputs": [],
   "source": [
    "from IPython.display import HTML\n",
    "\n",
    "\n",
    "HTML('<h1>Título</h1')"
   ]
  },
  {
   "cell_type": "markdown",
   "metadata": {},
   "source": [
    "También podemos hacer uso de esta posibilidad con nuestro código"
   ]
  },
  {
   "cell_type": "code",
   "execution_count": 13,
   "metadata": {},
   "outputs": [
    {
     "name": "stdout",
     "output_type": "stream",
     "text": [
      "Javi\n"
     ]
    }
   ],
   "source": [
    "class Persona:\n",
    "    def __init__(self, name):\n",
    "        self.name = name\n",
    "\n",
    "    def __repr__(self):\n",
    "        return 'Persona: ' + self.name\n",
    "        \n",
    "    def __str__(self):\n",
    "        return self.name\n",
    "    \n",
    "    def _repr_html_(self):\n",
    "        return \"<h1>\" + self.name + \"</h1>\"\n",
    "    \n",
    "p = Persona('Javi')\n",
    "p\n",
    "print(p)"
   ]
  },
  {
   "cell_type": "code",
   "execution_count": 14,
   "metadata": {},
   "outputs": [
    {
     "data": {
      "text/html": [
       "<h1>Javi</h1>"
      ],
      "text/plain": [
       "Persona: Javi"
      ]
     },
     "execution_count": 14,
     "metadata": {},
     "output_type": "execute_result"
    }
   ],
   "source": [
    "p"
   ]
  },
  {
   "cell_type": "code",
   "execution_count": 15,
   "metadata": {},
   "outputs": [
    {
     "data": {
      "application/javascript": [
       "alert('Hola desde Javascript')\n"
      ],
      "text/plain": [
       "<IPython.core.display.Javascript object>"
      ]
     },
     "metadata": {},
     "output_type": "display_data"
    }
   ],
   "source": [
    "%%js\n",
    "alert('Hola desde Javascript')"
   ]
  },
  {
   "cell_type": "markdown",
   "metadata": {},
   "source": [
    "## Extensiones\n",
    "http://jupyter-contrib-nbextensions.readthedocs.io/en/latest/\n",
    "\n",
    "## Widgets\n",
    "http://jupyter.org/widgets\n",
    "\n",
    "## Galería de notebooks interesantes\n",
    "https://github.com/jupyter/jupyter/wiki/a-gallery-of-interesting-jupyter-notebooks"
   ]
  }
 ],
 "metadata": {
  "kernelspec": {
   "display_name": "Python 3",
   "language": "python",
   "name": "python3"
  },
  "language_info": {
   "codemirror_mode": {
    "name": "ipython",
    "version": 3
   },
   "file_extension": ".py",
   "mimetype": "text/x-python",
   "name": "python",
   "nbconvert_exporter": "python",
   "pygments_lexer": "ipython3",
   "version": "3.7.9"
  }
 },
 "nbformat": 4,
 "nbformat_minor": 4
}
