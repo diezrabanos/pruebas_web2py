{
 "cells": [
  {
   "cell_type": "markdown",
   "metadata": {},
   "source": [
    "# Vistas HTML\n",
    "- Son ficheros HTML que sirven para representar los datos provistos por las acciones de los controladores.\n",
    "- La sintaxis es un híbrido entre HTML y Python.\n",
    "- El código HTML se escribe tal cual y el código Python se escapa entre dobles llaves.\n",
    "    - Las expresiones van tras un igual:\n",
    "        ```html\n",
    "        <a href=\"{{=url_enlace}}\">\n",
    "        ```\n",
    "    - {{=x}} inyecta el valor de x \"escapado\", a no ser que x sea un objeto de tipo XML.\n",
    "    - Las sentencias van tal cual:\n",
    "        ```html\n",
    "        <ul>\n",
    "        {{for item in list:}}\n",
    "            <li>{{=item}}</li>\n",
    "        {{pass}}\n",
    "        </ul>\n",
    "        ```\n",
    "    - La indentación sigue las normas del HTML, no de Python. De modo que los bloques de código se cierran con \"pass\"\n",
    "        ```python\n",
    "        {{\n",
    "        if i == 0:\n",
    "        response.write('i is 0')       # no hay indentación\n",
    "        else:\n",
    "        response.write('i is not 0')   # no hay indentación\n",
    "        pass                           # cierre del bloque if\n",
    "        }}\n",
    "        ```\n",
    "    - Directivas Web2py:\n",
    "        - extend: la vista que contiene esta directiva se inserta en la vista a la que extiende\n",
    "            ```html\n",
    "            {{extend 'layout.html'}}\n",
    "            <h2>Formulario de alta</h2>\n",
    "            {{=form}}\n",
    "            ```\n",
    "        - include:\n",
    "            - include: la vista que contiene esta direcitiva inserta en esa posición la vista que la extiende\n",
    "                Dada la vista \"cuerpo.html\":\n",
    "                ```html\n",
    "                <h1>Posts</h1>\n",
    "                {{include}}\n",
    "                ```\n",
    "                Data la vista \"posts.html\":\n",
    "                ```html\n",
    "                {{extend 'cuerpo.html'}}\n",
    "                <ul>\n",
    "                {{for post in posts:}}\n",
    "                    <li class=\"post\">{{=post.autor}}<br>{{=post.texto}}</li>\n",
    "                {{pass}}\n",
    "                </ul>\n",
    "                ```\n",
    "                El resultado de renderizar \"posts.html\" se incrustará en \"cuerpo.html\" en la posición que ocupe la directiva {{include}}\n",
    "            - include vista: la vista que contiene esta directiva inserta en esa posición el resultado de renderizar la vista incluida\n",
    "                ```html\n",
    "                {{include 'cabecera.html'}}\n",
    "                <h2>Lista de elementos</h2>\n",
    "                {{include 'lista-elementos.html'}}\n",
    "                ```\n",
    "        - block: permite nombrar bloques de las vistas para su posterior sustitución.\n",
    "        \n",
    "            layout.html\n",
    "            ```html\n",
    "            <html>\n",
    "              <body>\n",
    "                {{include}}\n",
    "                <div class=\"cabecera\">\n",
    "                {{block lateral}}\n",
    "                Contenido por defecto del bloque lateral (será sustituido)\n",
    "                {{end}}\n",
    "                </div>\n",
    "              </body>\n",
    "            </html>\n",
    "            ```\n",
    "            posts.html\n",
    "            ```html\n",
    "            {{extend 'layout.html'}}\n",
    "            Este será mi contenido para la vista.\n",
    "            {{block lateral}}\n",
    "            Este es mi bloque lateral.\n",
    "            {{end}}\n",
    "            ```\n",
    "        - super: permite que en un bloque se respete el contenido del padre al insertar otra vista\n",
    "            layout.ntml\n",
    "            ```html\n",
    "            <html>\n",
    "              <body>\n",
    "                {{include}}\n",
    "                <div class=\"sidebar\">\n",
    "                  {{block mysidebar}}\n",
    "                    Contenido por defecto de mi sidebar (será sustituido)\n",
    "                  {{end}}\n",
    "                </div>\n",
    "              </body>\n",
    "            </html>\n",
    "            ```\n",
    "            \n",
    "            vista.html\n",
    "            ```html\n",
    "            {{extend 'layout.html'}}\n",
    "            Hola mundo\n",
    "            {{block mysidebar}}\n",
    "            {{super}}\n",
    "            Nueva barra lateral\n",
    "            {{end}}\n",
    "            ```\n",
    "\n",
    "            obtenemos\n",
    "            ```html\n",
    "            <html>\n",
    "              <body>\n",
    "                Hola mundo\n",
    "                <div class=\"sidebar\">\n",
    "                    Contenido por defecto de mi sidebar (será sustituido)\n",
    "                    Nueva barra lateral\n",
    "                </div>\n",
    "              </body>\n",
    "            </html>\n",
    "            ```\n",
    "- La vista se renderiza secuencialmente.\n",
    "- response.write() escribe en response.body\n",
    "```html\n",
    "<html><body>\n",
    "{{for x in range(10):}}{{=x}}hello<br />{{pass}}\n",
    "</body></html>\n",
    "```\n",
    "```python\n",
    "# se traduce a\n",
    "response.write(\"\"\"<html><body>\"\"\", escape=False)\n",
    "for x in range(10):\n",
    "    response.write(x)\n",
    "    response.write(\"\"\"hello<br />\"\"\", escape=False)\n",
    "response.write(\"\"\"</body></html>\"\"\", escape=False)\n",
    "```\n",
    "- Si se produce un error en el renderizado, se muestra el código HTML generado."
   ]
  },
  {
   "cell_type": "markdown",
   "metadata": {},
   "source": [
    "### Estudio de layout.html y las vistas genéricas de la aplicación plantilla"
   ]
  },
  {
   "cell_type": "markdown",
   "metadata": {},
   "source": [
    "**layout.html**\n",
    "\n",
    "```html\n",
    "<!DOCTYPE html>\n",
    "<!--[if (gt IE 9)|!(IE)]><!--> <html class=\"no-js\" lang=\"{{=T.accepted_language or 'en'}}\"> <!--<![endif]-->\n",
    "  <head>\n",
    "    <meta charset=\"utf-8\">\n",
    "    <!-- www.phpied.com/conditional-comments-block-downloads/ -->\n",
    "    <!-- Always force latest IE rendering engine\n",
    "         (even in intranet) & Chrome Frame\n",
    "         Remove this if you use the .htaccess -->\n",
    "    <meta http-equiv=\"X-UA-Compatible\" content=\"IE=edge{{=not request.is_local and ',chrome=1' or ''}}\">\n",
    "    <!--  Mobile Viewport Fix\n",
    "          j.mp/mobileviewport & davidbcalhoun.com/2010/viewport-metatag\n",
    "          device-width: Occupy full width of the screen in its current orientation\n",
    "          initial-scale = 1.0 retains dimensions instead of zooming out if page height > device height\n",
    "          user-scalable = yes allows the user to zoom in -->\n",
    "    <meta name=\"viewport\" content=\"width=device-width, initial-scale=1.0\">\n",
    "    <title>{{=response.title or request.application}}</title>\n",
    "    <!-- http://dev.w3.org/html5/markup/meta.name.html -->\n",
    "    <meta name=\"application-name\" content=\"{{=request.application}}\">\n",
    "    <!-- Speaking of Google, don't forget to set your site up:\n",
    "         http://google.com/webmasters -->\n",
    "    <meta name=\"google-site-verification\" content=\"\">\n",
    "    <!-- include stylesheets -->\n",
    "    <link rel=\"stylesheet\" href=\"https://cdnjs.cloudflare.com/ajax/libs/font-awesome/4.7.0/css/font-awesome.min.css\"/>\n",
    "    <link rel=\"stylesheet\" href=\"{{=URL('static','css/bootstrap.min.css')}}\"/>\n",
    "    <link rel=\"stylesheet\" href=\"{{=URL('static','css/web2py-bootstrap4.css')}}\"/>\n",
    "    <link rel=\"shortcut icon\" href=\"{{=URL('static','images/favicon.ico')}}\" type=\"image/x-icon\">\n",
    "    <link rel=\"apple-touch-icon\" href=\"{{=URL('static','images/favicon.png')}}\">\n",
    "    <!-- All JavaScript at the bottom, except for Modernizr which enables\n",
    "         HTML5 elements & feature detects -->\n",
    "    <script src=\"{{=URL('static','js/modernizr-2.8.3.min.js')}}\"></script>\n",
    "    <!-- Favicons -->\n",
    "    {{include 'web2py_ajax.html'}} <!-- this includes jquery.js, calendar.js/.css and web2py.js -->\n",
    "    {{block head}}{{end}}\n",
    "  </head>\n",
    "  <body>\n",
    "    <div class=\"w2p_flash alert alert-dismissable\">{{=response.flash or ''}}</div>\n",
    "    <!-- Navbar ======================================= -->\n",
    "    <nav class=\"navbar navbar-light navbar-expand-md bg-faded bg-dark navbar-dark justify-content-center\">\n",
    "       <a href=\"http://web2py.com\" class=\"navbar-brand d-flex w-50 mr-auto\">web2py</a>\n",
    "       <button class=\"navbar-toggler\" type=\"button\" data-toggle=\"collapse\" data-target=\"#navbarNavDropdown\" aria-controls=\"navbarNavDropdown\" aria-expanded=\"false\" aria-label=\"Toggle navigation\">\n",
    "         <span class=\"navbar-toggler-icon\"></span>\n",
    "       </button>\n",
    "       <div class=\"navbar-collapse collapse w-100\" id=\"navbarNavDropdown\">\n",
    "         <ul class=\"navbar-nav w-100 justify-content-center\">\n",
    "          {{for _item in response.menu or []:}}\n",
    "          {{if len(_item)<4 or not _item[3]:}}\n",
    "          <li class=\"nav-item {{if _item[1]:}}active{{pass}}\">\n",
    "            <a class=\"nav-link\" href=\"{{=_item[2]}}\">{{=_item[0]}}</a>\n",
    "          </li>\n",
    "          {{else:}}\n",
    "          <li class=\"nav-item dropdown\">\n",
    "            <a class=\"nav-link dropdown-toggle\" href=\"{{=_item[2]}}\" data-toggle=\"dropdown\" aria-haspopup=\"true\" aria-expanded=\"false\">{{=_item[0]}}</a>\n",
    "            <div class=\"dropdown-menu\">\n",
    "              {{for _subitem in _item[3]:}}\n",
    "              <a class=\"dropdown-item\" href=\"{{=_subitem[2]}}\">{{=_subitem[0]}}</a>\n",
    "              {{pass}}\n",
    "            </div>\n",
    "          </li>\n",
    "          {{pass}}\n",
    "          {{pass}}\n",
    "        </ul>\n",
    "         <form class=\"form-inline my-2 my-lg-0\">\n",
    "             <input class=\"form-control mr-sm-2\" type=\"text\" placeholder=\"Search\">\n",
    "         </form>\n",
    "        {{if 'auth' in globals():}}\n",
    "        <ul class=\"nav navbar-nav ml-auto w-100 justify-content-end\">\n",
    "          <li class=\"nav-item dropdown\">\n",
    "            <a class=\"nav-link dropdown-toggle\" href=\"#\" data-toggle=\"dropdown\" aria-haspopup=\"true\" aria-expanded=\"false\">\n",
    "              {{if auth.user:}}{{=auth.user.first_name}}{{else:}}LOGIN{{pass}}\n",
    "            </a>\n",
    "            <div class=\"dropdown-menu dropdown-menu-right\">\n",
    "              {{if auth.user:}}\n",
    "              <a class=\"dropdown-item\" href=\"{{=URL('default','user/profile')}}\">{{=T('Profile')}}</a>\n",
    "              {{if 'change_password' not in auth.settings.actions_disabled:}}\n",
    "              <a class=\"dropdown-item\" href=\"{{=URL('default','user/change_password')}}\">{{=T('Change Password')}}</a>\n",
    "              {{pass}}\n",
    "              <a class=\"dropdown-item\" href=\"{{=URL('default','user/logout')}}\">{{=T('Logout')}}</a>\n",
    "              {{else:}}\n",
    "              <a class=\"dropdown-item\" href=\"{{=URL('default','user/login')}}\">{{=T('Login')}}</a>\n",
    "              {{if 'register' not in auth.settings.actions_disabled:}}\n",
    "              <a class=\"dropdown-item\" href=\"{{=URL('default','user/register')}}\">{{=T('Sign up')}}</a>\n",
    "              {{pass}}\n",
    "              {{if 'retrieve_password' not in auth.settings.actions_disabled:}}\n",
    "              <a class=\"dropdown-item\" href=\"{{=URL('default','user/retrieve_password')}}\">{{=T('Lost Password')}}</a>\n",
    "              {{pass}}\n",
    "              {{pass}}\n",
    "            </div>\n",
    "          </li>\n",
    "        </ul>\n",
    "        {{pass}}\n",
    "      </div>\n",
    "    </nav>\n",
    "\n",
    "    <!-- Masthead ===================================== -->\n",
    "    {{block header}}\n",
    "    {{end}}\n",
    "    <!-- Main ========================================= -->\n",
    "    <!-- Begin page content -->\n",
    "    <div class=\"container-fluid main-container\">\n",
    "      {{include}}\n",
    "      {{=response.toolbar() if response.show_toolbar else ''}}\n",
    "    </div>\n",
    "\n",
    "    {{block footer}} <!-- this is default footer -->\n",
    "    <footer class=\"footer container-fluid\">\n",
    "      <div class=\"row\">\n",
    "        <div class=\"col-md-12\">\n",
    "          <div class=\"copyright pull-left\">{{=T('Copyright')}} &#169; {{=request.now.year}}</div>\n",
    "          <div id=\"poweredBy\" class=\"pull-right\">\n",
    "            {{=T('Powered by')}}\n",
    "            <a href=\"http://www.web2py.com/\">web2py</a>\n",
    "          </div>\n",
    "        </div>\n",
    "      </div>\n",
    "    </footer>\n",
    "    {{end}}\n",
    "    <!-- The javascript =============================== -->\n",
    "    <script src=\"{{=URL('static','js/bootstrap.bundle.min.js')}}\"></script>\n",
    "    <script src=\"{{=URL('static','js/web2py-bootstrap4.js')}}\"></script>\n",
    "    {{block page_js}}{{end page_js}}\n",
    "    {{if response.google_analytics_id:}}\n",
    "    <!-- Analytics ==================================== -->\n",
    "    <script src=\"{{=URL('static','js/analytics.min.js')}}\"></script>\n",
    "    <script type=\"text/javascript\">\n",
    "      analytics.initialize({\n",
    "      'Google Analytics':{trackingId:'{{=response.google_analytics_id}}'}\n",
    "      });\n",
    "    </script>\n",
    "    {{pass}}\n",
    "  </body>\n",
    "</html>\n",
    "```"
   ]
  },
  {
   "cell_type": "markdown",
   "metadata": {},
   "source": [
    "**generic.csv**\n",
    "```python\n",
    "{{\"\"\"Usage:\n",
    "\n",
    "  def controller():\n",
    "      return {\"\": db().select(db.thing.ALL)}\n",
    "\n",
    "And then visit that controller with a .csv extention name\n",
    "\"\"\"\n",
    "}}{{if len(response._vars)==1:}}{{\n",
    "# Not yet find a Python 2/3 compatible StringIO pattern,\n",
    "# we avoid this solution http://web2py.com/books/default/chapter/29/10/services#CSV\n",
    "# Here we buffer the entire csv file instead (it is your controller's job to limit the volume anyway),\n",
    "# based on: http://web2py.com/books/default/chapter/29/06/the-database-abstraction-layer#CSV-one-Table-at-a-time-\n",
    "\n",
    "content = response._vars[next(iter(response._vars))]\n",
    "response.headers['Content-Type'] = 'application/vnd.ms-excel'\n",
    "response.write(str(content), escape=False)\n",
    "}}{{pass}}\n",
    "```"
   ]
  },
  {
   "cell_type": "markdown",
   "metadata": {},
   "source": [
    "**generic.html**\n",
    "```python\n",
    "{{extend 'layout.html'}}\n",
    "{{\"\"\"\n",
    "\n",
    "You should not modify this file. \n",
    "It is used as default when a view is not provided for your controllers\n",
    "\n",
    "\"\"\"}}\n",
    "<h2>{{=' '.join(x.capitalize() for x in request.function.split('_'))}}</h2>\n",
    "{{if len(response._vars)==1:}}\n",
    "{{=BEAUTIFY(response._vars[next(iter(response._vars))])}}\n",
    "{{elif len(response._vars)>1:}}\n",
    "{{=BEAUTIFY(response._vars)}}\n",
    "{{pass}}\n",
    "```"
   ]
  },
  {
   "cell_type": "markdown",
   "metadata": {},
   "source": [
    "**generic.ics**\n",
    "```python\n",
    "{{\n",
    "###\n",
    "# response._vars contains the dictionary returned by the controller action\n",
    "# Assuming something like:\n",
    "#\n",
    "# db.define_table('event',\n",
    "#                 Field('title'),\n",
    "#                 Field('start_datetime','datetime'),\n",
    "#                 Field('stop_datetime','datetime'))\n",
    "#   events = db(db.event).select()\n",
    "#\n",
    "# Aor this to work the action must return something like\n",
    "#\n",
    "#   dict(events=events, title='title',link=URL('action'),timeshift=0)\n",
    "#\n",
    "###\n",
    "from gluon.serializers import ics}}{{=XML(ics(**response._vars))}}\n",
    "```"
   ]
  },
  {
   "cell_type": "markdown",
   "metadata": {},
   "source": [
    "**generic.json**\n",
    "```python\n",
    "{{from gluon.serializers import json}}{{=XML(json(response._vars))}}\n",
    "```"
   ]
  },
  {
   "cell_type": "markdown",
   "metadata": {},
   "source": [
    "**generic.jsonp**\n",
    "```python\n",
    "{{\n",
    "###\n",
    "# response._vars contains the dictionary returned by the controller action\n",
    "###\n",
    "\n",
    "# security check! This file is an example for a jsonp view.\n",
    "# it is not safe to use as a generic.jsonp because of security implications.\n",
    "\n",
    "if response.view == 'generic.jsonp':\n",
    "   raise HTTP(501,'generic.jsonp disabled for security reasons')\n",
    "\n",
    "try:\n",
    "       from gluon.serializers import json\n",
    "       result = \"%s(%s)\" % (request.vars['callback'], json(response._vars))\n",
    "       response.write(result, escape=False)\n",
    "       response.headers['Content-Type'] = 'application/jsonp'\n",
    "except (TypeError, ValueError):\n",
    "       raise HTTP(405, 'JSON serialization error')\n",
    "except ImportError:\n",
    "       raise HTTP(405, 'JSON not available')\n",
    "except:\n",
    "       raise HTTP(405, 'JSON error')\n",
    "}}\n",
    "```"
   ]
  },
  {
   "cell_type": "markdown",
   "metadata": {},
   "source": [
    "**generic.load**\n",
    "```python\n",
    "{{'''\n",
    "# License: Public Domain\n",
    "# Author: Iceberg at 21cn dot com\n",
    "\n",
    "With this generic.load file, you can use same function to serve two purposes.\n",
    "\n",
    "= regular action\n",
    "- ajax callback (when called with .load)\n",
    "\n",
    "Example modified from http://www.web2py.com/AlterEgo/default/show/252:\n",
    "\n",
    "def index():\n",
    "    return dict(\n",
    "\t\tpart1='hello world',\n",
    "        \tpart2=LOAD(url=URL(r=request,f='auxiliary.load'),ajax=True))\n",
    "\n",
    "def auxiliary():\n",
    "    form=SQLFORM.factory(Field('name'))\n",
    "    if form.accepts(request.vars):\n",
    "        response.flash = 'ok' \n",
    "        return dict(message=\"Hello %s\" % form.vars.name)\n",
    "    return dict(form=form)\n",
    "\n",
    "Notice:\n",
    "\n",
    "- no need to set response.headers['web2py-response-flash']\n",
    "- no need to return a string\n",
    "even if the function is called via ajax.\n",
    "\n",
    "'''}}{{if len(response._vars)==1:}}{{=response._vars[next(iter(response._vars))]}}{{else:}}{{=BEAUTIFY(response._vars)}}{{pass}}\n",
    "```"
   ]
  },
  {
   "cell_type": "markdown",
   "metadata": {},
   "source": [
    "**generic.map**\n",
    "```python\n",
    "{{\"\"\"\n",
    "this is an example of usage of google map\n",
    "the web2py action should be something like:\n",
    "\n",
    "def map():\n",
    "    return dict(\n",
    "      googlemap_key='...',\n",
    "      center_latitude = 41.878,\n",
    "      center_longitude = -87.629,\n",
    "      scale = 7,\n",
    "      maker = lambda point: A(row.id,_href='...')\n",
    "      points = db(db.point).select() where a points have latitute and longitude\n",
    "    )\n",
    "\n",
    "the corresponding views/defaut/map.html should be something like:\n",
    "\n",
    "    \\{\\{extend 'layout.html'\\}\\}\n",
    "    <center>\\{\\{include 'generic.map'\\}\\}</center>\n",
    "\n",
    "\"\"\"}}\n",
    "  <script src=\"http://maps.google.com/maps?file=api&amp;v=2&amp;key={{=googlemap_key}}\" type=\"text/javascript\"></script>\n",
    "    <script type=\"text/javascript\">\n",
    "    //<![CDATA[\n",
    "    function load() {\n",
    "      if (GBrowserIsCompatible()) {\n",
    "        var map = new GMap2(document.getElementById(\"map\"));\n",
    "        map.addControl(new GSmallMapControl());\n",
    "        map.addControl(new GMapTypeControl());\n",
    "        map.setCenter(new GLatLng({{=center_latitude}},\n",
    "           {{=center_longitude}}), {{=scale}});\n",
    "        // Create a base icon for all of our markers that specifies the\n",
    "        // shadow, icon dimensions, etc.\n",
    "        var baseIcon = new GIcon();\n",
    "        baseIcon.shadow = \"http://www.google.com/mapfiles/shadow50.png\";\n",
    "        baseIcon.iconSize = new GSize(20, 34);\n",
    "        baseIcon.shadowSize = new GSize(37, 34);\n",
    "        baseIcon.iconAnchor = new GPoint(9, 34);\n",
    "        baseIcon.infoWindowAnchor = new GPoint(9, 2);\n",
    "        baseIcon.infoShadowAnchor = new GPoint(18, 14);\n",
    "        var blueIcon = new GIcon();\n",
    "        blueIcon.image = \"http://www.google.com/intl/en_us/mapfiles/ms/micons/blue-dot.png\";\n",
    "        blueIcon.shadow = \"http://www.google.com/mapfiles/shadow50.png\";\n",
    "        blueIcon.iconSize = new GSize(37, 34);\n",
    "        blueIcon.shadowSize = new GSize(37, 34);\n",
    "        blueIcon.iconAnchor = new GPoint(9, 34);\n",
    "        blueIcon.infoWindowAnchor = new GPoint(9, 2);\n",
    "        blueIcon.infoShadowAnchor = new GPoint(18, 14);\n",
    "\n",
    "        function createMarker(point, i, message) {\n",
    "           // Set up our GMarkerOptions object\n",
    "           if(i==0) markerOptions = { icon:blueIcon };\n",
    "           else markerOptions= {}\n",
    "           var marker = new GMarker(point, markerOptions);\n",
    "           GEvent.addListener(marker, \"click\", function() {\n",
    "             marker.openInfoWindowHtml(message);\n",
    "           });\n",
    "           return marker;\n",
    "        }\n",
    "        {{for point in points:}}{{if point.latitude and point.longitude:}}\n",
    "          var point = new GLatLng({{=point.latitude}},{{=point.longitude}});\n",
    "          map.addOverlay(createMarker(point, 0, \n",
    "            '{{=point.get('map_marker',maker(point))}}'));\n",
    "        {{pass}}{{pass}}\n",
    "     }\n",
    "    }\n",
    "    //]]>\n",
    "    </script>\n",
    "    <div id=\"map\" style=\"width: 800px; height: 500px\"></div>\n",
    "    <script>load();</script>\n",
    "```"
   ]
  },
  {
   "cell_type": "markdown",
   "metadata": {},
   "source": [
    "**generic.pdf**\n",
    "```python\n",
    "{{\n",
    "import os\n",
    "from gluon.contrib.generics import pdf_from_html\n",
    "filename = '%s/%s.html' % (request.controller,request.function)\n",
    "if os.path.exists(os.path.join(request.folder,'views',filename)):\n",
    "   html=response.render(filename)\n",
    "else:\n",
    "   html=BODY(BEAUTIFY(response._vars))\n",
    "pass\n",
    "=pdf_from_html(html)\n",
    "}}\n",
    "```"
   ]
  },
  {
   "cell_type": "markdown",
   "metadata": {},
   "source": [
    "**generic.rss**\n",
    "```python\n",
    "{{\n",
    "###\n",
    "# response._vars contains the dictionary returned by the controller action\n",
    "# for this to work the action must return something like\n",
    "#\n",
    "#   dict(title=...,link=...,description=...,created_on='...',items=...)\n",
    "#\n",
    "# items is a list of dictionaries each with title, link, description, pub_date.\n",
    "###\n",
    "from gluon.serializers import rss}}{{=XML(rss(response._vars))}}\n",
    "```"
   ]
  },
  {
   "cell_type": "markdown",
   "metadata": {},
   "source": [
    "**generic.xml**\n",
    "```python\n",
    "{{from gluon.serializers import xml}}{{=XML(xml(response._vars,quote=False))}}\n",
    "```"
   ]
  },
  {
   "cell_type": "markdown",
   "metadata": {},
   "source": [
    "**web2py_ajax.html**\n",
    "```python\n",
    "<script type=\"text/javascript\"><!--\n",
    "    // These variables are used by the web2py_ajax_init function in web2py_ajax.js (which is loaded below).\n",
    "    {{=ASSIGNJS(\n",
    "    w2p_ajax_confirm_message = T('Are you sure you want to delete this object?'),\n",
    "    w2p_ajax_disable_with_message = T('Working...'),\n",
    "    w2p_ajax_date_format = T('%Y-%m-%d'),\n",
    "    w2p_ajax_datetime_format = T('%Y-%m-%d %H:%M:%S'),\n",
    "    ajax_error_500 = T.M('An error occured, please [[reload %s]] the page') % URL(args=request.args, vars=request.get_vars)\n",
    "    )}}\n",
    "    //--></script>\n",
    "{{\n",
    "response.files.insert(0,URL('static','js/jquery.js'))\n",
    "response.files.insert(1,URL('static','css/calendar.css'))\n",
    "response.files.insert(2,URL('static','js/calendar.js'))\n",
    "response.files.insert(3,URL('static','js/web2py.js'))\n",
    "response.include_meta()\n",
    "response.include_files()\n",
    "}}\n",
    "```"
   ]
  },
  {
   "cell_type": "markdown",
   "metadata": {},
   "source": [
    "# Ayudantes HTML en [Web2py](http://www.web2py.com/books/default/chapter/29/05/the-views)\n",
    "- Gracias a ellos evitamos la escritura de HTML \"en crudo\"\n",
    "- Tienen el mismo nombre que el elemento HTML que representan, pero en mayúsculas"
   ]
  },
  {
   "cell_type": "markdown",
   "metadata": {},
   "source": [
    "## HTML en Jupyter Notebook\n",
    "Antes de analizar los ayudantes HTML de Web2py tenemos que ver cómo integrarlos en un notebook.\n",
    "\n",
    "Jupyter Notebook puede renderizar HTML en sus celdas. Basta con crear una celda de tipo \"code\" cuya primera línea sea el comando \"%%html\". Las demás líneas de la celda serán el código HTML que deseemos renderizar."
   ]
  },
  {
   "cell_type": "code",
   "execution_count": 1,
   "metadata": {},
   "outputs": [
    {
     "data": {
      "text/html": [
       "<h1>HTML</h1>\n",
       "<a href=\"http://www.google.com\">Google</a>\n",
       "<ul>\n",
       "  <li>Item 1</li>\n",
       "  <li>Item 2</li>\n",
       "  <li>Item 3</li>\n",
       "</ul>\n"
      ],
      "text/plain": [
       "<IPython.core.display.HTML object>"
      ]
     },
     "metadata": {},
     "output_type": "display_data"
    }
   ],
   "source": [
    "%%html\n",
    "<h1>HTML</h1>\n",
    "<a href=\"http://www.google.com\">Google</a>\n",
    "<ul>\n",
    "  <li>Item 1</li>\n",
    "  <li>Item 2</li>\n",
    "  <li>Item 3</li>\n",
    "</ul>"
   ]
  },
  {
   "cell_type": "markdown",
   "metadata": {},
   "source": [
    "## Entorno de trabajo Web2py + Jupyter Notebook\n",
    "- Los ayudantes HTML de Web2py se definen en el fichero html.py del directorio gluon\n",
    "- Jupyter Notebook dispone de herramientas para renderizar HTML"
   ]
  },
  {
   "cell_type": "code",
   "execution_count": 2,
   "metadata": {},
   "outputs": [],
   "source": [
    "import sys\n",
    "from IPython.display import display, Code as html_code\n",
    "\n",
    "\n",
    "# path al directorio web2py\n",
    "web2py_path = '../../curso/web2py'\n",
    "sys.path.append(web2py_path)\n",
    "\n",
    "# ayudantes HTML de Web2py\n",
    "from gluon.html import *\n",
    "# función de Jupyter que renderiza HTML\n",
    "from IPython.core.display import HTML as IP_HTML\n",
    "\n",
    "# función de apoyo para renderizar el HTML\n",
    "# generado por Web2py\n",
    "def w2p_render(html, verbose=False):\n",
    "    'html -> (html, html_renderizado)'\n",
    "    if verbose:\n",
    "        display(html_code(str(html)))\n",
    "    if 'Rows' in str(html.__class__):\n",
    "        html = SQLTABLE(html)\n",
    "    return IP_HTML(str(html))"
   ]
  },
  {
   "cell_type": "markdown",
   "metadata": {},
   "source": [
    "## DIV\n",
    "Firma:\n",
    "```python\n",
    "DIV(*componentes, **atributos)\n",
    "```\n",
    "Los componentes serán los elementos que vayan entre las etiquetas de apertura y cierre del elemento HTML.\n",
    "\n",
    "Los atributos serán los atributos del elemento HTML. Sus nombres serán los mismos, pero con el prefijo \"_\".\n",
    "\n",
    "Todos los ayudantes, excepto XML, derivan de DIV.\n",
    "\n",
    "Tienen un par de métodos que permiten serializarlos:\n",
    "```python\n",
    "div.xml()\n",
    "div.__str__()\n",
    "```"
   ]
  },
  {
   "cell_type": "code",
   "execution_count": 4,
   "metadata": {},
   "outputs": [],
   "source": [
    "# Veamos la documentación del ayudante DIV\n",
    "DIV?"
   ]
  },
  {
   "cell_type": "markdown",
   "metadata": {},
   "source": [
    "**Ejemplos**:"
   ]
  },
  {
   "cell_type": "code",
   "execution_count": 5,
   "metadata": {
    "scrolled": true
   },
   "outputs": [
    {
     "name": "stdout",
     "output_type": "stream",
     "text": [
      "<div>Hola mundo</div>\n"
     ]
    }
   ],
   "source": [
    "div = DIV('Hola', ' mundo')\n",
    "# todos los ayudantes, excepto XML, derivan de DIV\n",
    "print(div)"
   ]
  },
  {
   "cell_type": "code",
   "execution_count": 5,
   "metadata": {
    "scrolled": true
   },
   "outputs": [
    {
     "name": "stdout",
     "output_type": "stream",
     "text": [
      "<div style=\"background-color:silver;color:green;font-weight:bold\">Hola mundo</div>\n"
     ]
    }
   ],
   "source": [
    "div = DIV('Hola mundo', _style='background-color:silver;color:green;font-weight:bold')\n",
    "# cuando trato de imprimirlo veo el código HTML generado\n",
    "print(div)"
   ]
  },
  {
   "cell_type": "code",
   "execution_count": 6,
   "metadata": {},
   "outputs": [
    {
     "data": {
      "text/html": [
       "<style>pre { line-height: 125%; }\n",
       "td.linenos .normal { color: inherit; background-color: transparent; padding-left: 5px; padding-right: 5px; }\n",
       "span.linenos { color: inherit; background-color: transparent; padding-left: 5px; padding-right: 5px; }\n",
       "td.linenos .special { color: #000000; background-color: #ffffc0; padding-left: 5px; padding-right: 5px; }\n",
       "span.linenos.special { color: #000000; background-color: #ffffc0; padding-left: 5px; padding-right: 5px; }\n",
       ".output_html .hll { background-color: #ffffcc }\n",
       ".output_html { background: #f8f8f8; }\n",
       ".output_html .c { color: #408080; font-style: italic } /* Comment */\n",
       ".output_html .err { border: 1px solid #FF0000 } /* Error */\n",
       ".output_html .k { color: #008000; font-weight: bold } /* Keyword */\n",
       ".output_html .o { color: #666666 } /* Operator */\n",
       ".output_html .ch { color: #408080; font-style: italic } /* Comment.Hashbang */\n",
       ".output_html .cm { color: #408080; font-style: italic } /* Comment.Multiline */\n",
       ".output_html .cp { color: #BC7A00 } /* Comment.Preproc */\n",
       ".output_html .cpf { color: #408080; font-style: italic } /* Comment.PreprocFile */\n",
       ".output_html .c1 { color: #408080; font-style: italic } /* Comment.Single */\n",
       ".output_html .cs { color: #408080; font-style: italic } /* Comment.Special */\n",
       ".output_html .gd { color: #A00000 } /* Generic.Deleted */\n",
       ".output_html .ge { font-style: italic } /* Generic.Emph */\n",
       ".output_html .gr { color: #FF0000 } /* Generic.Error */\n",
       ".output_html .gh { color: #000080; font-weight: bold } /* Generic.Heading */\n",
       ".output_html .gi { color: #00A000 } /* Generic.Inserted */\n",
       ".output_html .go { color: #888888 } /* Generic.Output */\n",
       ".output_html .gp { color: #000080; font-weight: bold } /* Generic.Prompt */\n",
       ".output_html .gs { font-weight: bold } /* Generic.Strong */\n",
       ".output_html .gu { color: #800080; font-weight: bold } /* Generic.Subheading */\n",
       ".output_html .gt { color: #0044DD } /* Generic.Traceback */\n",
       ".output_html .kc { color: #008000; font-weight: bold } /* Keyword.Constant */\n",
       ".output_html .kd { color: #008000; font-weight: bold } /* Keyword.Declaration */\n",
       ".output_html .kn { color: #008000; font-weight: bold } /* Keyword.Namespace */\n",
       ".output_html .kp { color: #008000 } /* Keyword.Pseudo */\n",
       ".output_html .kr { color: #008000; font-weight: bold } /* Keyword.Reserved */\n",
       ".output_html .kt { color: #B00040 } /* Keyword.Type */\n",
       ".output_html .m { color: #666666 } /* Literal.Number */\n",
       ".output_html .s { color: #BA2121 } /* Literal.String */\n",
       ".output_html .na { color: #7D9029 } /* Name.Attribute */\n",
       ".output_html .nb { color: #008000 } /* Name.Builtin */\n",
       ".output_html .nc { color: #0000FF; font-weight: bold } /* Name.Class */\n",
       ".output_html .no { color: #880000 } /* Name.Constant */\n",
       ".output_html .nd { color: #AA22FF } /* Name.Decorator */\n",
       ".output_html .ni { color: #999999; font-weight: bold } /* Name.Entity */\n",
       ".output_html .ne { color: #D2413A; font-weight: bold } /* Name.Exception */\n",
       ".output_html .nf { color: #0000FF } /* Name.Function */\n",
       ".output_html .nl { color: #A0A000 } /* Name.Label */\n",
       ".output_html .nn { color: #0000FF; font-weight: bold } /* Name.Namespace */\n",
       ".output_html .nt { color: #008000; font-weight: bold } /* Name.Tag */\n",
       ".output_html .nv { color: #19177C } /* Name.Variable */\n",
       ".output_html .ow { color: #AA22FF; font-weight: bold } /* Operator.Word */\n",
       ".output_html .w { color: #bbbbbb } /* Text.Whitespace */\n",
       ".output_html .mb { color: #666666 } /* Literal.Number.Bin */\n",
       ".output_html .mf { color: #666666 } /* Literal.Number.Float */\n",
       ".output_html .mh { color: #666666 } /* Literal.Number.Hex */\n",
       ".output_html .mi { color: #666666 } /* Literal.Number.Integer */\n",
       ".output_html .mo { color: #666666 } /* Literal.Number.Oct */\n",
       ".output_html .sa { color: #BA2121 } /* Literal.String.Affix */\n",
       ".output_html .sb { color: #BA2121 } /* Literal.String.Backtick */\n",
       ".output_html .sc { color: #BA2121 } /* Literal.String.Char */\n",
       ".output_html .dl { color: #BA2121 } /* Literal.String.Delimiter */\n",
       ".output_html .sd { color: #BA2121; font-style: italic } /* Literal.String.Doc */\n",
       ".output_html .s2 { color: #BA2121 } /* Literal.String.Double */\n",
       ".output_html .se { color: #BB6622; font-weight: bold } /* Literal.String.Escape */\n",
       ".output_html .sh { color: #BA2121 } /* Literal.String.Heredoc */\n",
       ".output_html .si { color: #BB6688; font-weight: bold } /* Literal.String.Interpol */\n",
       ".output_html .sx { color: #008000 } /* Literal.String.Other */\n",
       ".output_html .sr { color: #BB6688 } /* Literal.String.Regex */\n",
       ".output_html .s1 { color: #BA2121 } /* Literal.String.Single */\n",
       ".output_html .ss { color: #19177C } /* Literal.String.Symbol */\n",
       ".output_html .bp { color: #008000 } /* Name.Builtin.Pseudo */\n",
       ".output_html .fm { color: #0000FF } /* Name.Function.Magic */\n",
       ".output_html .vc { color: #19177C } /* Name.Variable.Class */\n",
       ".output_html .vg { color: #19177C } /* Name.Variable.Global */\n",
       ".output_html .vi { color: #19177C } /* Name.Variable.Instance */\n",
       ".output_html .vm { color: #19177C } /* Name.Variable.Magic */\n",
       ".output_html .il { color: #666666 } /* Literal.Number.Integer.Long */</style><div class=\"highlight\"><pre><span></span><span class=\"nt\">&lt;div</span> <span class=\"na\">style=</span><span class=\"s\">&quot;background-color:silver;color:green;font-weight:bold&quot;</span><span class=\"nt\">&gt;</span>Hola mundo<span class=\"nt\">&lt;/div&gt;</span>\n",
       "</pre></div>\n"
      ],
      "text/latex": [
       "\\begin{Verbatim}[commandchars=\\\\\\{\\}]\n",
       "\\PY{n+nt}{\\PYZlt{}div} \\PY{n+na}{style=}\\PY{l+s}{\\PYZdq{}background\\PYZhy{}color:silver;color:green;font\\PYZhy{}weight:bold\\PYZdq{}}\\PY{n+nt}{\\PYZgt{}}Hola mundo\\PY{n+nt}{\\PYZlt{}/div\\PYZgt{}}\n",
       "\\end{Verbatim}\n"
      ],
      "text/plain": [
       "<div style=\"background-color:silver;color:green;font-weight:bold\">Hola mundo</div>"
      ]
     },
     "metadata": {},
     "output_type": "display_data"
    },
    {
     "data": {
      "text/html": [
       "<div style=\"background-color:silver;color:green;font-weight:bold\">Hola mundo</div>"
      ],
      "text/plain": [
       "<IPython.core.display.HTML object>"
      ]
     },
     "execution_count": 6,
     "metadata": {},
     "output_type": "execute_result"
    }
   ],
   "source": [
    "div = DIV('Hola mundo', _style='background-color:silver;color:green;font-weight:bold')\n",
    "w2p_render(div, True)"
   ]
  },
  {
   "cell_type": "code",
   "execution_count": 7,
   "metadata": {},
   "outputs": [
    {
     "data": {
      "text/html": [
       "<style>pre { line-height: 125%; }\n",
       "td.linenos .normal { color: inherit; background-color: transparent; padding-left: 5px; padding-right: 5px; }\n",
       "span.linenos { color: inherit; background-color: transparent; padding-left: 5px; padding-right: 5px; }\n",
       "td.linenos .special { color: #000000; background-color: #ffffc0; padding-left: 5px; padding-right: 5px; }\n",
       "span.linenos.special { color: #000000; background-color: #ffffc0; padding-left: 5px; padding-right: 5px; }\n",
       ".output_html .hll { background-color: #ffffcc }\n",
       ".output_html { background: #f8f8f8; }\n",
       ".output_html .c { color: #408080; font-style: italic } /* Comment */\n",
       ".output_html .err { border: 1px solid #FF0000 } /* Error */\n",
       ".output_html .k { color: #008000; font-weight: bold } /* Keyword */\n",
       ".output_html .o { color: #666666 } /* Operator */\n",
       ".output_html .ch { color: #408080; font-style: italic } /* Comment.Hashbang */\n",
       ".output_html .cm { color: #408080; font-style: italic } /* Comment.Multiline */\n",
       ".output_html .cp { color: #BC7A00 } /* Comment.Preproc */\n",
       ".output_html .cpf { color: #408080; font-style: italic } /* Comment.PreprocFile */\n",
       ".output_html .c1 { color: #408080; font-style: italic } /* Comment.Single */\n",
       ".output_html .cs { color: #408080; font-style: italic } /* Comment.Special */\n",
       ".output_html .gd { color: #A00000 } /* Generic.Deleted */\n",
       ".output_html .ge { font-style: italic } /* Generic.Emph */\n",
       ".output_html .gr { color: #FF0000 } /* Generic.Error */\n",
       ".output_html .gh { color: #000080; font-weight: bold } /* Generic.Heading */\n",
       ".output_html .gi { color: #00A000 } /* Generic.Inserted */\n",
       ".output_html .go { color: #888888 } /* Generic.Output */\n",
       ".output_html .gp { color: #000080; font-weight: bold } /* Generic.Prompt */\n",
       ".output_html .gs { font-weight: bold } /* Generic.Strong */\n",
       ".output_html .gu { color: #800080; font-weight: bold } /* Generic.Subheading */\n",
       ".output_html .gt { color: #0044DD } /* Generic.Traceback */\n",
       ".output_html .kc { color: #008000; font-weight: bold } /* Keyword.Constant */\n",
       ".output_html .kd { color: #008000; font-weight: bold } /* Keyword.Declaration */\n",
       ".output_html .kn { color: #008000; font-weight: bold } /* Keyword.Namespace */\n",
       ".output_html .kp { color: #008000 } /* Keyword.Pseudo */\n",
       ".output_html .kr { color: #008000; font-weight: bold } /* Keyword.Reserved */\n",
       ".output_html .kt { color: #B00040 } /* Keyword.Type */\n",
       ".output_html .m { color: #666666 } /* Literal.Number */\n",
       ".output_html .s { color: #BA2121 } /* Literal.String */\n",
       ".output_html .na { color: #7D9029 } /* Name.Attribute */\n",
       ".output_html .nb { color: #008000 } /* Name.Builtin */\n",
       ".output_html .nc { color: #0000FF; font-weight: bold } /* Name.Class */\n",
       ".output_html .no { color: #880000 } /* Name.Constant */\n",
       ".output_html .nd { color: #AA22FF } /* Name.Decorator */\n",
       ".output_html .ni { color: #999999; font-weight: bold } /* Name.Entity */\n",
       ".output_html .ne { color: #D2413A; font-weight: bold } /* Name.Exception */\n",
       ".output_html .nf { color: #0000FF } /* Name.Function */\n",
       ".output_html .nl { color: #A0A000 } /* Name.Label */\n",
       ".output_html .nn { color: #0000FF; font-weight: bold } /* Name.Namespace */\n",
       ".output_html .nt { color: #008000; font-weight: bold } /* Name.Tag */\n",
       ".output_html .nv { color: #19177C } /* Name.Variable */\n",
       ".output_html .ow { color: #AA22FF; font-weight: bold } /* Operator.Word */\n",
       ".output_html .w { color: #bbbbbb } /* Text.Whitespace */\n",
       ".output_html .mb { color: #666666 } /* Literal.Number.Bin */\n",
       ".output_html .mf { color: #666666 } /* Literal.Number.Float */\n",
       ".output_html .mh { color: #666666 } /* Literal.Number.Hex */\n",
       ".output_html .mi { color: #666666 } /* Literal.Number.Integer */\n",
       ".output_html .mo { color: #666666 } /* Literal.Number.Oct */\n",
       ".output_html .sa { color: #BA2121 } /* Literal.String.Affix */\n",
       ".output_html .sb { color: #BA2121 } /* Literal.String.Backtick */\n",
       ".output_html .sc { color: #BA2121 } /* Literal.String.Char */\n",
       ".output_html .dl { color: #BA2121 } /* Literal.String.Delimiter */\n",
       ".output_html .sd { color: #BA2121; font-style: italic } /* Literal.String.Doc */\n",
       ".output_html .s2 { color: #BA2121 } /* Literal.String.Double */\n",
       ".output_html .se { color: #BB6622; font-weight: bold } /* Literal.String.Escape */\n",
       ".output_html .sh { color: #BA2121 } /* Literal.String.Heredoc */\n",
       ".output_html .si { color: #BB6688; font-weight: bold } /* Literal.String.Interpol */\n",
       ".output_html .sx { color: #008000 } /* Literal.String.Other */\n",
       ".output_html .sr { color: #BB6688 } /* Literal.String.Regex */\n",
       ".output_html .s1 { color: #BA2121 } /* Literal.String.Single */\n",
       ".output_html .ss { color: #19177C } /* Literal.String.Symbol */\n",
       ".output_html .bp { color: #008000 } /* Name.Builtin.Pseudo */\n",
       ".output_html .fm { color: #0000FF } /* Name.Function.Magic */\n",
       ".output_html .vc { color: #19177C } /* Name.Variable.Class */\n",
       ".output_html .vg { color: #19177C } /* Name.Variable.Global */\n",
       ".output_html .vi { color: #19177C } /* Name.Variable.Instance */\n",
       ".output_html .vm { color: #19177C } /* Name.Variable.Magic */\n",
       ".output_html .il { color: #666666 } /* Literal.Number.Integer.Long */</style><div class=\"highlight\"><pre><span></span><span class=\"nt\">&lt;div</span> <span class=\"na\">class=</span><span class=\"s\">&quot;alert alert-info&quot;</span> <span class=\"na\">id=</span><span class=\"s\">&quot;info&quot;</span><span class=\"nt\">&gt;</span>Hola mundo<span class=\"nt\">&lt;div</span> <span class=\"na\">class=</span><span class=\"s\">&quot;alert alert-danger&quot;</span><span class=\"nt\">&gt;</span>Web2py<span class=\"nt\">&lt;/div&gt;&lt;/div&gt;</span>\n",
       "</pre></div>\n"
      ],
      "text/latex": [
       "\\begin{Verbatim}[commandchars=\\\\\\{\\}]\n",
       "\\PY{n+nt}{\\PYZlt{}div} \\PY{n+na}{class=}\\PY{l+s}{\\PYZdq{}alert alert\\PYZhy{}info\\PYZdq{}} \\PY{n+na}{id=}\\PY{l+s}{\\PYZdq{}info\\PYZdq{}}\\PY{n+nt}{\\PYZgt{}}Hola mundo\\PY{n+nt}{\\PYZlt{}div} \\PY{n+na}{class=}\\PY{l+s}{\\PYZdq{}alert alert\\PYZhy{}danger\\PYZdq{}}\\PY{n+nt}{\\PYZgt{}}Web2py\\PY{n+nt}{\\PYZlt{}/div\\PYZgt{}}\\PY{n+nt}{\\PYZlt{}/div\\PYZgt{}}\n",
       "\\end{Verbatim}\n"
      ],
      "text/plain": [
       "<div class=\"alert alert-info\" id=\"info\">Hola mundo<div class=\"alert alert-danger\">Web2py</div></div>"
      ]
     },
     "metadata": {},
     "output_type": "display_data"
    },
    {
     "data": {
      "text/html": [
       "<div class=\"alert alert-info\" id=\"info\">Hola mundo<div class=\"alert alert-danger\">Web2py</div></div>"
      ],
      "text/plain": [
       "<IPython.core.display.HTML object>"
      ]
     },
     "execution_count": 7,
     "metadata": {},
     "output_type": "execute_result"
    }
   ],
   "source": [
    "div = DIV('Hola mundo', DIV('Web2py', _class='alert alert-danger'), _id='info', _class='alert alert-info')\n",
    "w2p_render(div, True)"
   ]
  },
  {
   "cell_type": "markdown",
   "metadata": {},
   "source": [
    "## DOM\n",
    "Además de permitir la generación de HTML mediante código Python, son una representación del DOM en el lado del servidor.\n",
    "\n",
    "Los componentes de los ayudantes HTML puden ser referenciados mediante su posición y los ayudantes HTML pueden considerarse listas de componentes.\n",
    "```python\n",
    ">>> a = DIV(DIV('Hola', ' mundo'), '!')\n",
    ">>> print(a)\n",
    "<div><div>Hola mundo</div>!</div>\n",
    ">>> del a[1]   # '!'\n",
    ">>> a.append(div('.'))\n",
    ">>> a[0][0] = 'Vaya'   # 'Hola'\n",
    ">>> print(a)\n",
    "<div><div>Vaya mundo</div><div>.</div></div>\n",
    "```\n",
    "\n",
    "Los atributos de los ayudantes HTML pueden ser referenciados por su nombre y los ayudantes HTML pueden considerarse diccionarios de atributos.\n",
    "```python\n",
    ">>> a = DIV(DIV('Hola', ' mundo'), '!')\n",
    ">>> a['_class'] = 'admiracion'\n",
    ">>> a[0]['_class'] = 'saludo'\n",
    ">>> print(a)\n",
    "<div class=\"admiracion\"><div class=\"saludo\">Hola mundo</div>!</div>\n",
    "```\n",
    "\n",
    "Acceso a los todos los componentes y atributos:\n",
    "```python\n",
    "# lista de componentes\n",
    "a.components\n",
    "# atributos\n",
    "a.attributes\n",
    "```\n",
    "\n",
    "Puede ser que los nombres de los atributos no sean válidos en Python, como por ejemplo \"data-role\". En esos casos podemos utilizar dos sintaxis distintas:\n",
    "```python\n",
    ">>> print DIV('text', data={'role': 'collapsible'})\n",
    "<div data-role=\"collapsible\">text</div>\n",
    ">>> print DIV('text', **{'_data-role': 'collapsible'})\n",
    "<div data-role=\"collapsible\">text</div>\n",
    "```"
   ]
  },
  {
   "cell_type": "code",
   "execution_count": 8,
   "metadata": {},
   "outputs": [
    {
     "name": "stdout",
     "output_type": "stream",
     "text": [
      "<div class=\"admiracion\"><div class=\"saludo\">Hola mundo</div>!</div>\n",
      "Componentes:\n",
      "\t <div class=\"saludo\">Hola mundo</div>\n",
      "\t!\n",
      "Atributos:\n",
      "\t _class\n"
     ]
    }
   ],
   "source": [
    "a = DIV(DIV('Hola', ' mundo'), '!')\n",
    "a['_class'] = 'admiracion'\n",
    "a[0]['_class'] = 'saludo'\n",
    "print(a)\n",
    "print('Componentes:\\n\\t', '\\n\\t'.join(map(str, a.components)))\n",
    "print('Atributos:\\n\\t', '\\n\\t'.join(map(str, a.attributes)))"
   ]
  },
  {
   "cell_type": "markdown",
   "metadata": {},
   "source": [
    "## XML\n",
    "Se usa para encapsular texto que no debe ser \"escapado\". Por ejemplo para renderizar una variable que contiene código HTML."
   ]
  },
  {
   "cell_type": "code",
   "execution_count": 9,
   "metadata": {},
   "outputs": [
    {
     "name": "stdout",
     "output_type": "stream",
     "text": [
      "<div>&lt;b&gt;hello&lt;/b&gt;</div>\n"
     ]
    }
   ],
   "source": [
    "print(DIV(\"<b>hello</b>\"))"
   ]
  },
  {
   "cell_type": "code",
   "execution_count": 10,
   "metadata": {},
   "outputs": [
    {
     "name": "stdout",
     "output_type": "stream",
     "text": [
      "<div><b>hello</b></div>\n"
     ]
    }
   ],
   "source": [
    "print(DIV(XML(\"<b>hello</b>\")))"
   ]
  },
  {
   "cell_type": "code",
   "execution_count": 11,
   "metadata": {},
   "outputs": [
    {
     "name": "stdout",
     "output_type": "stream",
     "text": [
      "<div>&lt;script&gt;&lt;/script&gt;</div>\n"
     ]
    }
   ],
   "source": [
    "# el parámetro sanitize permite \"asegurar\" el HTML generado\n",
    "print(DIV(XML('<script>alert(\"Peligro!\")</script>', sanitize=True)))"
   ]
  },
  {
   "cell_type": "code",
   "execution_count": 12,
   "metadata": {},
   "outputs": [
    {
     "name": "stdout",
     "output_type": "stream",
     "text": [
      "&lt;script&gt;&lt;/script&gt;\n"
     ]
    }
   ],
   "source": [
    "print(XML('<script>alert(\"Peligro!\")</script>',\n",
    "          sanitize=True,\n",
    "          permitted_tags=['a', 'b', 'blockquote', 'br/', 'i', 'li',\n",
    "                          'ol', 'ul', 'p', 'cite', 'code', 'pre', 'img/'],\n",
    "          allowed_attributes={'a':['href', 'title'],\n",
    "                              'img':['src', 'alt'],\n",
    "                              'blockquote':['type']}))"
   ]
  },
  {
   "cell_type": "code",
   "execution_count": 13,
   "metadata": {},
   "outputs": [
    {
     "name": "stdout",
     "output_type": "stream",
     "text": [
      "<div class=\"admiracion\"><div class=\"saludo\">Hola mundo</div>!</div>\n"
     ]
    }
   ],
   "source": [
    "a = DIV(DIV('Hola', ' mundo'), '!')\n",
    "a['_class'] = 'admiracion'\n",
    "a[0]['_class'] = 'saludo'\n",
    "print(a)"
   ]
  },
  {
   "cell_type": "markdown",
   "metadata": {},
   "source": [
    "## Lista de ayudantes HTML\n",
    "Built-in:\n",
    "- A\n",
    "- ASSIGNJS\n",
    "- B\n",
    "- BODY\n",
    "- BR\n",
    "- CAT\n",
    "- CENTER\n",
    "- CODE\n",
    "- COL\n",
    "- COLGROUP\n",
    "- DIV\n",
    "- EM\n",
    "- FIELDSET\n",
    "- FORM\n",
    "- H1, H2, H3, H4, H5, H6\n",
    "- HEAD\n",
    "- HTML\n",
    "- XHTML\n",
    "- HR\n",
    "- I\n",
    "- IFRAME\n",
    "- IMG\n",
    "- INPUT\n",
    "- LABEL\n",
    "- LEGEND\n",
    "- LI\n",
    "- META\n",
    "- MARKMIN\n",
    "- OBJECT\n",
    "- OL\n",
    "- ON\n",
    "- OPTGROUP\n",
    "- OPTION\n",
    "- P\n",
    "- PRE\n",
    "- SCRIPT\n",
    "- SELECT\n",
    "- SPAN\n",
    "- STYLE\n",
    "- TABLE, TR, TD\n",
    "- TBODY\n",
    "- TEXTAREA\n",
    "- TFOOT\n",
    "- TH\n",
    "- THEAD\n",
    "- TITLE\n",
    "- TR\n",
    "- TT\n",
    "- UL\n",
    "- URL\n",
    "- embed64\n",
    "- xmlescape\n",
    "\n",
    "Especiales\n",
    "- TAG\n",
    "- MENU"
   ]
  },
  {
   "cell_type": "markdown",
   "metadata": {},
   "source": [
    "## BEAUTIFY\n",
    "Se usa para construir una representación HTML de objetos."
   ]
  },
  {
   "cell_type": "code",
   "execution_count": 14,
   "metadata": {},
   "outputs": [
    {
     "data": {
      "text/html": [
       "<style>pre { line-height: 125%; }\n",
       "td.linenos .normal { color: inherit; background-color: transparent; padding-left: 5px; padding-right: 5px; }\n",
       "span.linenos { color: inherit; background-color: transparent; padding-left: 5px; padding-right: 5px; }\n",
       "td.linenos .special { color: #000000; background-color: #ffffc0; padding-left: 5px; padding-right: 5px; }\n",
       "span.linenos.special { color: #000000; background-color: #ffffc0; padding-left: 5px; padding-right: 5px; }\n",
       ".output_html .hll { background-color: #ffffcc }\n",
       ".output_html { background: #f8f8f8; }\n",
       ".output_html .c { color: #408080; font-style: italic } /* Comment */\n",
       ".output_html .err { border: 1px solid #FF0000 } /* Error */\n",
       ".output_html .k { color: #008000; font-weight: bold } /* Keyword */\n",
       ".output_html .o { color: #666666 } /* Operator */\n",
       ".output_html .ch { color: #408080; font-style: italic } /* Comment.Hashbang */\n",
       ".output_html .cm { color: #408080; font-style: italic } /* Comment.Multiline */\n",
       ".output_html .cp { color: #BC7A00 } /* Comment.Preproc */\n",
       ".output_html .cpf { color: #408080; font-style: italic } /* Comment.PreprocFile */\n",
       ".output_html .c1 { color: #408080; font-style: italic } /* Comment.Single */\n",
       ".output_html .cs { color: #408080; font-style: italic } /* Comment.Special */\n",
       ".output_html .gd { color: #A00000 } /* Generic.Deleted */\n",
       ".output_html .ge { font-style: italic } /* Generic.Emph */\n",
       ".output_html .gr { color: #FF0000 } /* Generic.Error */\n",
       ".output_html .gh { color: #000080; font-weight: bold } /* Generic.Heading */\n",
       ".output_html .gi { color: #00A000 } /* Generic.Inserted */\n",
       ".output_html .go { color: #888888 } /* Generic.Output */\n",
       ".output_html .gp { color: #000080; font-weight: bold } /* Generic.Prompt */\n",
       ".output_html .gs { font-weight: bold } /* Generic.Strong */\n",
       ".output_html .gu { color: #800080; font-weight: bold } /* Generic.Subheading */\n",
       ".output_html .gt { color: #0044DD } /* Generic.Traceback */\n",
       ".output_html .kc { color: #008000; font-weight: bold } /* Keyword.Constant */\n",
       ".output_html .kd { color: #008000; font-weight: bold } /* Keyword.Declaration */\n",
       ".output_html .kn { color: #008000; font-weight: bold } /* Keyword.Namespace */\n",
       ".output_html .kp { color: #008000 } /* Keyword.Pseudo */\n",
       ".output_html .kr { color: #008000; font-weight: bold } /* Keyword.Reserved */\n",
       ".output_html .kt { color: #B00040 } /* Keyword.Type */\n",
       ".output_html .m { color: #666666 } /* Literal.Number */\n",
       ".output_html .s { color: #BA2121 } /* Literal.String */\n",
       ".output_html .na { color: #7D9029 } /* Name.Attribute */\n",
       ".output_html .nb { color: #008000 } /* Name.Builtin */\n",
       ".output_html .nc { color: #0000FF; font-weight: bold } /* Name.Class */\n",
       ".output_html .no { color: #880000 } /* Name.Constant */\n",
       ".output_html .nd { color: #AA22FF } /* Name.Decorator */\n",
       ".output_html .ni { color: #999999; font-weight: bold } /* Name.Entity */\n",
       ".output_html .ne { color: #D2413A; font-weight: bold } /* Name.Exception */\n",
       ".output_html .nf { color: #0000FF } /* Name.Function */\n",
       ".output_html .nl { color: #A0A000 } /* Name.Label */\n",
       ".output_html .nn { color: #0000FF; font-weight: bold } /* Name.Namespace */\n",
       ".output_html .nt { color: #008000; font-weight: bold } /* Name.Tag */\n",
       ".output_html .nv { color: #19177C } /* Name.Variable */\n",
       ".output_html .ow { color: #AA22FF; font-weight: bold } /* Operator.Word */\n",
       ".output_html .w { color: #bbbbbb } /* Text.Whitespace */\n",
       ".output_html .mb { color: #666666 } /* Literal.Number.Bin */\n",
       ".output_html .mf { color: #666666 } /* Literal.Number.Float */\n",
       ".output_html .mh { color: #666666 } /* Literal.Number.Hex */\n",
       ".output_html .mi { color: #666666 } /* Literal.Number.Integer */\n",
       ".output_html .mo { color: #666666 } /* Literal.Number.Oct */\n",
       ".output_html .sa { color: #BA2121 } /* Literal.String.Affix */\n",
       ".output_html .sb { color: #BA2121 } /* Literal.String.Backtick */\n",
       ".output_html .sc { color: #BA2121 } /* Literal.String.Char */\n",
       ".output_html .dl { color: #BA2121 } /* Literal.String.Delimiter */\n",
       ".output_html .sd { color: #BA2121; font-style: italic } /* Literal.String.Doc */\n",
       ".output_html .s2 { color: #BA2121 } /* Literal.String.Double */\n",
       ".output_html .se { color: #BB6622; font-weight: bold } /* Literal.String.Escape */\n",
       ".output_html .sh { color: #BA2121 } /* Literal.String.Heredoc */\n",
       ".output_html .si { color: #BB6688; font-weight: bold } /* Literal.String.Interpol */\n",
       ".output_html .sx { color: #008000 } /* Literal.String.Other */\n",
       ".output_html .sr { color: #BB6688 } /* Literal.String.Regex */\n",
       ".output_html .s1 { color: #BA2121 } /* Literal.String.Single */\n",
       ".output_html .ss { color: #19177C } /* Literal.String.Symbol */\n",
       ".output_html .bp { color: #008000 } /* Name.Builtin.Pseudo */\n",
       ".output_html .fm { color: #0000FF } /* Name.Function.Magic */\n",
       ".output_html .vc { color: #19177C } /* Name.Variable.Class */\n",
       ".output_html .vg { color: #19177C } /* Name.Variable.Global */\n",
       ".output_html .vi { color: #19177C } /* Name.Variable.Instance */\n",
       ".output_html .vm { color: #19177C } /* Name.Variable.Magic */\n",
       ".output_html .il { color: #666666 } /* Literal.Number.Integer.Long */</style><div class=\"highlight\"><pre><span></span><span class=\"nt\">&lt;div&gt;&lt;table&gt;&lt;tr&gt;&lt;td</span> <span class=\"na\">style=</span><span class=\"s\">&quot;font-weight:bold;vertical-align:top;&quot;</span><span class=\"nt\">&gt;</span>Dos<span class=\"nt\">&lt;/td&gt;&lt;td</span> <span class=\"na\">style=</span><span class=\"s\">&quot;vertical-align:top;&quot;</span><span class=\"nt\">&gt;</span>:<span class=\"nt\">&lt;/td&gt;&lt;td&gt;&lt;div&gt;&lt;table&gt;&lt;tr&gt;&lt;td&gt;&lt;div&gt;</span>1<span class=\"nt\">&lt;/div&gt;&lt;/td&gt;&lt;/tr&gt;&lt;tr&gt;&lt;td&gt;&lt;div&gt;</span>2<span class=\"nt\">&lt;/div&gt;&lt;/td&gt;&lt;/tr&gt;&lt;/table&gt;&lt;/div&gt;&lt;/td&gt;&lt;/tr&gt;&lt;tr&gt;&lt;td</span> <span class=\"na\">style=</span><span class=\"s\">&quot;font-weight:bold;vertical-align:top;&quot;</span><span class=\"nt\">&gt;</span>Uno<span class=\"nt\">&lt;/td&gt;&lt;td</span> <span class=\"na\">style=</span><span class=\"s\">&quot;vertical-align:top;&quot;</span><span class=\"nt\">&gt;</span>:<span class=\"nt\">&lt;/td&gt;&lt;td&gt;&lt;div&gt;&lt;table&gt;&lt;tr&gt;&lt;td&gt;&lt;div&gt;</span>Hola<span class=\"nt\">&lt;/div&gt;&lt;/td&gt;&lt;/tr&gt;&lt;tr&gt;&lt;td&gt;&lt;div&gt;</span>mundo<span class=\"nt\">&lt;/div&gt;&lt;/td&gt;&lt;/tr&gt;&lt;/table&gt;&lt;/div&gt;&lt;/td&gt;&lt;/tr&gt;&lt;/table&gt;&lt;/div&gt;</span>\n",
       "</pre></div>\n"
      ],
      "text/latex": [
       "\\begin{Verbatim}[commandchars=\\\\\\{\\}]\n",
       "\\PY{n+nt}{\\PYZlt{}div}\\PY{n+nt}{\\PYZgt{}}\\PY{n+nt}{\\PYZlt{}table}\\PY{n+nt}{\\PYZgt{}}\\PY{n+nt}{\\PYZlt{}tr}\\PY{n+nt}{\\PYZgt{}}\\PY{n+nt}{\\PYZlt{}td} \\PY{n+na}{style=}\\PY{l+s}{\\PYZdq{}font\\PYZhy{}weight:bold;vertical\\PYZhy{}align:top;\\PYZdq{}}\\PY{n+nt}{\\PYZgt{}}Dos\\PY{n+nt}{\\PYZlt{}/td\\PYZgt{}}\\PY{n+nt}{\\PYZlt{}td} \\PY{n+na}{style=}\\PY{l+s}{\\PYZdq{}vertical\\PYZhy{}align:top;\\PYZdq{}}\\PY{n+nt}{\\PYZgt{}}:\\PY{n+nt}{\\PYZlt{}/td\\PYZgt{}}\\PY{n+nt}{\\PYZlt{}td}\\PY{n+nt}{\\PYZgt{}}\\PY{n+nt}{\\PYZlt{}div}\\PY{n+nt}{\\PYZgt{}}\\PY{n+nt}{\\PYZlt{}table}\\PY{n+nt}{\\PYZgt{}}\\PY{n+nt}{\\PYZlt{}tr}\\PY{n+nt}{\\PYZgt{}}\\PY{n+nt}{\\PYZlt{}td}\\PY{n+nt}{\\PYZgt{}}\\PY{n+nt}{\\PYZlt{}div}\\PY{n+nt}{\\PYZgt{}}1\\PY{n+nt}{\\PYZlt{}/div\\PYZgt{}}\\PY{n+nt}{\\PYZlt{}/td\\PYZgt{}}\\PY{n+nt}{\\PYZlt{}/tr\\PYZgt{}}\\PY{n+nt}{\\PYZlt{}tr}\\PY{n+nt}{\\PYZgt{}}\\PY{n+nt}{\\PYZlt{}td}\\PY{n+nt}{\\PYZgt{}}\\PY{n+nt}{\\PYZlt{}div}\\PY{n+nt}{\\PYZgt{}}2\\PY{n+nt}{\\PYZlt{}/div\\PYZgt{}}\\PY{n+nt}{\\PYZlt{}/td\\PYZgt{}}\\PY{n+nt}{\\PYZlt{}/tr\\PYZgt{}}\\PY{n+nt}{\\PYZlt{}/table\\PYZgt{}}\\PY{n+nt}{\\PYZlt{}/div\\PYZgt{}}\\PY{n+nt}{\\PYZlt{}/td\\PYZgt{}}\\PY{n+nt}{\\PYZlt{}/tr\\PYZgt{}}\\PY{n+nt}{\\PYZlt{}tr}\\PY{n+nt}{\\PYZgt{}}\\PY{n+nt}{\\PYZlt{}td} \\PY{n+na}{style=}\\PY{l+s}{\\PYZdq{}font\\PYZhy{}weight:bold;vertical\\PYZhy{}align:top;\\PYZdq{}}\\PY{n+nt}{\\PYZgt{}}Uno\\PY{n+nt}{\\PYZlt{}/td\\PYZgt{}}\\PY{n+nt}{\\PYZlt{}td} \\PY{n+na}{style=}\\PY{l+s}{\\PYZdq{}vertical\\PYZhy{}align:top;\\PYZdq{}}\\PY{n+nt}{\\PYZgt{}}:\\PY{n+nt}{\\PYZlt{}/td\\PYZgt{}}\\PY{n+nt}{\\PYZlt{}td}\\PY{n+nt}{\\PYZgt{}}\\PY{n+nt}{\\PYZlt{}div}\\PY{n+nt}{\\PYZgt{}}\\PY{n+nt}{\\PYZlt{}table}\\PY{n+nt}{\\PYZgt{}}\\PY{n+nt}{\\PYZlt{}tr}\\PY{n+nt}{\\PYZgt{}}\\PY{n+nt}{\\PYZlt{}td}\\PY{n+nt}{\\PYZgt{}}\\PY{n+nt}{\\PYZlt{}div}\\PY{n+nt}{\\PYZgt{}}Hola\\PY{n+nt}{\\PYZlt{}/div\\PYZgt{}}\\PY{n+nt}{\\PYZlt{}/td\\PYZgt{}}\\PY{n+nt}{\\PYZlt{}/tr\\PYZgt{}}\\PY{n+nt}{\\PYZlt{}tr}\\PY{n+nt}{\\PYZgt{}}\\PY{n+nt}{\\PYZlt{}td}\\PY{n+nt}{\\PYZgt{}}\\PY{n+nt}{\\PYZlt{}div}\\PY{n+nt}{\\PYZgt{}}mundo\\PY{n+nt}{\\PYZlt{}/div\\PYZgt{}}\\PY{n+nt}{\\PYZlt{}/td\\PYZgt{}}\\PY{n+nt}{\\PYZlt{}/tr\\PYZgt{}}\\PY{n+nt}{\\PYZlt{}/table\\PYZgt{}}\\PY{n+nt}{\\PYZlt{}/div\\PYZgt{}}\\PY{n+nt}{\\PYZlt{}/td\\PYZgt{}}\\PY{n+nt}{\\PYZlt{}/tr\\PYZgt{}}\\PY{n+nt}{\\PYZlt{}/table\\PYZgt{}}\\PY{n+nt}{\\PYZlt{}/div\\PYZgt{}}\n",
       "\\end{Verbatim}\n"
      ],
      "text/plain": [
       "<div><table><tr><td style=\"font-weight:bold;vertical-align:top;\">Dos</td><td style=\"vertical-align:top;\">:</td><td><div><table><tr><td><div>1</div></td></tr><tr><td><div>2</div></td></tr></table></div></td></tr><tr><td style=\"font-weight:bold;vertical-align:top;\">Uno</td><td style=\"vertical-align:top;\">:</td><td><div><table><tr><td><div>Hola</div></td></tr><tr><td><div>mundo</div></td></tr></table></div></td></tr></table></div>"
      ]
     },
     "metadata": {},
     "output_type": "display_data"
    },
    {
     "data": {
      "text/html": [
       "<div><table><tr><td style=\"font-weight:bold;vertical-align:top;\">Dos</td><td style=\"vertical-align:top;\">:</td><td><div><table><tr><td><div>1</div></td></tr><tr><td><div>2</div></td></tr></table></div></td></tr><tr><td style=\"font-weight:bold;vertical-align:top;\">Uno</td><td style=\"vertical-align:top;\">:</td><td><div><table><tr><td><div>Hola</div></td></tr><tr><td><div>mundo</div></td></tr></table></div></td></tr></table></div>"
      ],
      "text/plain": [
       "<IPython.core.display.HTML object>"
      ]
     },
     "execution_count": 14,
     "metadata": {},
     "output_type": "execute_result"
    }
   ],
   "source": [
    "w2p_render(BEAUTIFY({\"Uno\": [\"Hola\", XML(\"mundo\")], \"Dos\": (1, 2)}), True)"
   ]
  },
  {
   "cell_type": "markdown",
   "metadata": {},
   "source": [
    "## Server-side DOM\n",
    "DIV y sus derivados tienen un par de atributos muy útiles para este punto:\n",
    "- element devuelve el primer hijo que cumple una determinada condición o None si no lo hubiera\n",
    "- elements devuelve la lista de todos los hijos que cumplen con dicha condición\n",
    "\n",
    "La condición puede escribirse con tres sintaxis distintas, que pueden mezclarse:\n",
    "- selectores jQuery\n",
    "- valor exacto del atributo\n",
    "- expresiones regulares"
   ]
  },
  {
   "cell_type": "code",
   "execution_count": 15,
   "metadata": {},
   "outputs": [
    {
     "name": "stdout",
     "output_type": "stream",
     "text": [
      "<div><div><div class=\"miclase\" id=\"uno\">Hola</div></div></div>\n",
      "<div><div><div class=\"miclase\" id=\"uno\">He cambiado</div></div></div>\n"
     ]
    }
   ],
   "source": [
    "a = DIV(DIV(DIV('Hola', _id='uno', _class='miclase')))\n",
    "print(a)\n",
    "d = a.elements('div#uno')\n",
    "d[0][0] = 'He cambiado'\n",
    "print(a)"
   ]
  },
  {
   "cell_type": "code",
   "execution_count": 16,
   "metadata": {},
   "outputs": [],
   "source": [
    "d1 = a.elements('#uno')\n",
    "d2 = a.elements('div#uno')\n",
    "d3 = a.elements('div[id=uno]')\n",
    "d4 = a.elements('div', _id='uno')\n",
    "assert d1 == d2 == d3 == d4\n",
    "\n",
    "d5 = a.elements('.miclase')\n",
    "d6 = a.elements('div.miclase')\n",
    "d7 = a.elements('div[class=miclase]')\n",
    "d8 = a.elements('div', _class='miclase')\n",
    "assert d5 == d6 == d7 == d8"
   ]
  },
  {
   "cell_type": "markdown",
   "metadata": {},
   "source": [
    "## Cajón de arena"
   ]
  },
  {
   "cell_type": "code",
   "execution_count": 17,
   "metadata": {},
   "outputs": [
    {
     "data": {
      "text/html": [
       "<style>pre { line-height: 125%; }\n",
       "td.linenos .normal { color: inherit; background-color: transparent; padding-left: 5px; padding-right: 5px; }\n",
       "span.linenos { color: inherit; background-color: transparent; padding-left: 5px; padding-right: 5px; }\n",
       "td.linenos .special { color: #000000; background-color: #ffffc0; padding-left: 5px; padding-right: 5px; }\n",
       "span.linenos.special { color: #000000; background-color: #ffffc0; padding-left: 5px; padding-right: 5px; }\n",
       ".output_html .hll { background-color: #ffffcc }\n",
       ".output_html { background: #f8f8f8; }\n",
       ".output_html .c { color: #408080; font-style: italic } /* Comment */\n",
       ".output_html .err { border: 1px solid #FF0000 } /* Error */\n",
       ".output_html .k { color: #008000; font-weight: bold } /* Keyword */\n",
       ".output_html .o { color: #666666 } /* Operator */\n",
       ".output_html .ch { color: #408080; font-style: italic } /* Comment.Hashbang */\n",
       ".output_html .cm { color: #408080; font-style: italic } /* Comment.Multiline */\n",
       ".output_html .cp { color: #BC7A00 } /* Comment.Preproc */\n",
       ".output_html .cpf { color: #408080; font-style: italic } /* Comment.PreprocFile */\n",
       ".output_html .c1 { color: #408080; font-style: italic } /* Comment.Single */\n",
       ".output_html .cs { color: #408080; font-style: italic } /* Comment.Special */\n",
       ".output_html .gd { color: #A00000 } /* Generic.Deleted */\n",
       ".output_html .ge { font-style: italic } /* Generic.Emph */\n",
       ".output_html .gr { color: #FF0000 } /* Generic.Error */\n",
       ".output_html .gh { color: #000080; font-weight: bold } /* Generic.Heading */\n",
       ".output_html .gi { color: #00A000 } /* Generic.Inserted */\n",
       ".output_html .go { color: #888888 } /* Generic.Output */\n",
       ".output_html .gp { color: #000080; font-weight: bold } /* Generic.Prompt */\n",
       ".output_html .gs { font-weight: bold } /* Generic.Strong */\n",
       ".output_html .gu { color: #800080; font-weight: bold } /* Generic.Subheading */\n",
       ".output_html .gt { color: #0044DD } /* Generic.Traceback */\n",
       ".output_html .kc { color: #008000; font-weight: bold } /* Keyword.Constant */\n",
       ".output_html .kd { color: #008000; font-weight: bold } /* Keyword.Declaration */\n",
       ".output_html .kn { color: #008000; font-weight: bold } /* Keyword.Namespace */\n",
       ".output_html .kp { color: #008000 } /* Keyword.Pseudo */\n",
       ".output_html .kr { color: #008000; font-weight: bold } /* Keyword.Reserved */\n",
       ".output_html .kt { color: #B00040 } /* Keyword.Type */\n",
       ".output_html .m { color: #666666 } /* Literal.Number */\n",
       ".output_html .s { color: #BA2121 } /* Literal.String */\n",
       ".output_html .na { color: #7D9029 } /* Name.Attribute */\n",
       ".output_html .nb { color: #008000 } /* Name.Builtin */\n",
       ".output_html .nc { color: #0000FF; font-weight: bold } /* Name.Class */\n",
       ".output_html .no { color: #880000 } /* Name.Constant */\n",
       ".output_html .nd { color: #AA22FF } /* Name.Decorator */\n",
       ".output_html .ni { color: #999999; font-weight: bold } /* Name.Entity */\n",
       ".output_html .ne { color: #D2413A; font-weight: bold } /* Name.Exception */\n",
       ".output_html .nf { color: #0000FF } /* Name.Function */\n",
       ".output_html .nl { color: #A0A000 } /* Name.Label */\n",
       ".output_html .nn { color: #0000FF; font-weight: bold } /* Name.Namespace */\n",
       ".output_html .nt { color: #008000; font-weight: bold } /* Name.Tag */\n",
       ".output_html .nv { color: #19177C } /* Name.Variable */\n",
       ".output_html .ow { color: #AA22FF; font-weight: bold } /* Operator.Word */\n",
       ".output_html .w { color: #bbbbbb } /* Text.Whitespace */\n",
       ".output_html .mb { color: #666666 } /* Literal.Number.Bin */\n",
       ".output_html .mf { color: #666666 } /* Literal.Number.Float */\n",
       ".output_html .mh { color: #666666 } /* Literal.Number.Hex */\n",
       ".output_html .mi { color: #666666 } /* Literal.Number.Integer */\n",
       ".output_html .mo { color: #666666 } /* Literal.Number.Oct */\n",
       ".output_html .sa { color: #BA2121 } /* Literal.String.Affix */\n",
       ".output_html .sb { color: #BA2121 } /* Literal.String.Backtick */\n",
       ".output_html .sc { color: #BA2121 } /* Literal.String.Char */\n",
       ".output_html .dl { color: #BA2121 } /* Literal.String.Delimiter */\n",
       ".output_html .sd { color: #BA2121; font-style: italic } /* Literal.String.Doc */\n",
       ".output_html .s2 { color: #BA2121 } /* Literal.String.Double */\n",
       ".output_html .se { color: #BB6622; font-weight: bold } /* Literal.String.Escape */\n",
       ".output_html .sh { color: #BA2121 } /* Literal.String.Heredoc */\n",
       ".output_html .si { color: #BB6688; font-weight: bold } /* Literal.String.Interpol */\n",
       ".output_html .sx { color: #008000 } /* Literal.String.Other */\n",
       ".output_html .sr { color: #BB6688 } /* Literal.String.Regex */\n",
       ".output_html .s1 { color: #BA2121 } /* Literal.String.Single */\n",
       ".output_html .ss { color: #19177C } /* Literal.String.Symbol */\n",
       ".output_html .bp { color: #008000 } /* Name.Builtin.Pseudo */\n",
       ".output_html .fm { color: #0000FF } /* Name.Function.Magic */\n",
       ".output_html .vc { color: #19177C } /* Name.Variable.Class */\n",
       ".output_html .vg { color: #19177C } /* Name.Variable.Global */\n",
       ".output_html .vi { color: #19177C } /* Name.Variable.Instance */\n",
       ".output_html .vm { color: #19177C } /* Name.Variable.Magic */\n",
       ".output_html .il { color: #666666 } /* Literal.Number.Integer.Long */</style><div class=\"highlight\"><pre><span></span><span class=\"nt\">&lt;a</span> <span class=\"na\">class=</span><span class=\"s\">&quot;btn btn-warning&quot;</span> <span class=\"na\">href=</span><span class=\"s\">&quot;http://www.google.com&quot;</span> <span class=\"na\">id=</span><span class=\"s\">&quot;btn-1&quot;</span><span class=\"nt\">&gt;</span>Pincha aquí!<span class=\"nt\">&lt;/a&gt;</span>\n",
       "</pre></div>\n"
      ],
      "text/latex": [
       "\\begin{Verbatim}[commandchars=\\\\\\{\\}]\n",
       "\\PY{n+nt}{\\PYZlt{}a} \\PY{n+na}{class=}\\PY{l+s}{\\PYZdq{}btn btn\\PYZhy{}warning\\PYZdq{}} \\PY{n+na}{href=}\\PY{l+s}{\\PYZdq{}http://www.google.com\\PYZdq{}} \\PY{n+na}{id=}\\PY{l+s}{\\PYZdq{}btn\\PYZhy{}1\\PYZdq{}}\\PY{n+nt}{\\PYZgt{}}Pincha aquí!\\PY{n+nt}{\\PYZlt{}/a\\PYZgt{}}\n",
       "\\end{Verbatim}\n"
      ],
      "text/plain": [
       "<a class=\"btn btn-warning\" href=\"http://www.google.com\" id=\"btn-1\">Pincha aquí!</a>"
      ]
     },
     "metadata": {},
     "output_type": "display_data"
    },
    {
     "data": {
      "text/html": [
       "<a class=\"btn btn-warning\" href=\"http://www.google.com\" id=\"btn-1\">Pincha aquí!</a>"
      ],
      "text/plain": [
       "<IPython.core.display.HTML object>"
      ]
     },
     "execution_count": 17,
     "metadata": {},
     "output_type": "execute_result"
    }
   ],
   "source": [
    "attrs = {'_id': 'btn-1', '_class': 'btn btn-warning', '_href': 'http://www.google.com'}\n",
    "content = ['Pincha', ' aquí', '!']\n",
    "a = A(*content, **attrs)\n",
    "w2p_render(a, True)"
   ]
  },
  {
   "cell_type": "code",
   "execution_count": 18,
   "metadata": {},
   "outputs": [
    {
     "data": {
      "text/html": [
       "<style>pre { line-height: 125%; }\n",
       "td.linenos .normal { color: inherit; background-color: transparent; padding-left: 5px; padding-right: 5px; }\n",
       "span.linenos { color: inherit; background-color: transparent; padding-left: 5px; padding-right: 5px; }\n",
       "td.linenos .special { color: #000000; background-color: #ffffc0; padding-left: 5px; padding-right: 5px; }\n",
       "span.linenos.special { color: #000000; background-color: #ffffc0; padding-left: 5px; padding-right: 5px; }\n",
       ".output_html .hll { background-color: #ffffcc }\n",
       ".output_html { background: #f8f8f8; }\n",
       ".output_html .c { color: #408080; font-style: italic } /* Comment */\n",
       ".output_html .err { border: 1px solid #FF0000 } /* Error */\n",
       ".output_html .k { color: #008000; font-weight: bold } /* Keyword */\n",
       ".output_html .o { color: #666666 } /* Operator */\n",
       ".output_html .ch { color: #408080; font-style: italic } /* Comment.Hashbang */\n",
       ".output_html .cm { color: #408080; font-style: italic } /* Comment.Multiline */\n",
       ".output_html .cp { color: #BC7A00 } /* Comment.Preproc */\n",
       ".output_html .cpf { color: #408080; font-style: italic } /* Comment.PreprocFile */\n",
       ".output_html .c1 { color: #408080; font-style: italic } /* Comment.Single */\n",
       ".output_html .cs { color: #408080; font-style: italic } /* Comment.Special */\n",
       ".output_html .gd { color: #A00000 } /* Generic.Deleted */\n",
       ".output_html .ge { font-style: italic } /* Generic.Emph */\n",
       ".output_html .gr { color: #FF0000 } /* Generic.Error */\n",
       ".output_html .gh { color: #000080; font-weight: bold } /* Generic.Heading */\n",
       ".output_html .gi { color: #00A000 } /* Generic.Inserted */\n",
       ".output_html .go { color: #888888 } /* Generic.Output */\n",
       ".output_html .gp { color: #000080; font-weight: bold } /* Generic.Prompt */\n",
       ".output_html .gs { font-weight: bold } /* Generic.Strong */\n",
       ".output_html .gu { color: #800080; font-weight: bold } /* Generic.Subheading */\n",
       ".output_html .gt { color: #0044DD } /* Generic.Traceback */\n",
       ".output_html .kc { color: #008000; font-weight: bold } /* Keyword.Constant */\n",
       ".output_html .kd { color: #008000; font-weight: bold } /* Keyword.Declaration */\n",
       ".output_html .kn { color: #008000; font-weight: bold } /* Keyword.Namespace */\n",
       ".output_html .kp { color: #008000 } /* Keyword.Pseudo */\n",
       ".output_html .kr { color: #008000; font-weight: bold } /* Keyword.Reserved */\n",
       ".output_html .kt { color: #B00040 } /* Keyword.Type */\n",
       ".output_html .m { color: #666666 } /* Literal.Number */\n",
       ".output_html .s { color: #BA2121 } /* Literal.String */\n",
       ".output_html .na { color: #7D9029 } /* Name.Attribute */\n",
       ".output_html .nb { color: #008000 } /* Name.Builtin */\n",
       ".output_html .nc { color: #0000FF; font-weight: bold } /* Name.Class */\n",
       ".output_html .no { color: #880000 } /* Name.Constant */\n",
       ".output_html .nd { color: #AA22FF } /* Name.Decorator */\n",
       ".output_html .ni { color: #999999; font-weight: bold } /* Name.Entity */\n",
       ".output_html .ne { color: #D2413A; font-weight: bold } /* Name.Exception */\n",
       ".output_html .nf { color: #0000FF } /* Name.Function */\n",
       ".output_html .nl { color: #A0A000 } /* Name.Label */\n",
       ".output_html .nn { color: #0000FF; font-weight: bold } /* Name.Namespace */\n",
       ".output_html .nt { color: #008000; font-weight: bold } /* Name.Tag */\n",
       ".output_html .nv { color: #19177C } /* Name.Variable */\n",
       ".output_html .ow { color: #AA22FF; font-weight: bold } /* Operator.Word */\n",
       ".output_html .w { color: #bbbbbb } /* Text.Whitespace */\n",
       ".output_html .mb { color: #666666 } /* Literal.Number.Bin */\n",
       ".output_html .mf { color: #666666 } /* Literal.Number.Float */\n",
       ".output_html .mh { color: #666666 } /* Literal.Number.Hex */\n",
       ".output_html .mi { color: #666666 } /* Literal.Number.Integer */\n",
       ".output_html .mo { color: #666666 } /* Literal.Number.Oct */\n",
       ".output_html .sa { color: #BA2121 } /* Literal.String.Affix */\n",
       ".output_html .sb { color: #BA2121 } /* Literal.String.Backtick */\n",
       ".output_html .sc { color: #BA2121 } /* Literal.String.Char */\n",
       ".output_html .dl { color: #BA2121 } /* Literal.String.Delimiter */\n",
       ".output_html .sd { color: #BA2121; font-style: italic } /* Literal.String.Doc */\n",
       ".output_html .s2 { color: #BA2121 } /* Literal.String.Double */\n",
       ".output_html .se { color: #BB6622; font-weight: bold } /* Literal.String.Escape */\n",
       ".output_html .sh { color: #BA2121 } /* Literal.String.Heredoc */\n",
       ".output_html .si { color: #BB6688; font-weight: bold } /* Literal.String.Interpol */\n",
       ".output_html .sx { color: #008000 } /* Literal.String.Other */\n",
       ".output_html .sr { color: #BB6688 } /* Literal.String.Regex */\n",
       ".output_html .s1 { color: #BA2121 } /* Literal.String.Single */\n",
       ".output_html .ss { color: #19177C } /* Literal.String.Symbol */\n",
       ".output_html .bp { color: #008000 } /* Name.Builtin.Pseudo */\n",
       ".output_html .fm { color: #0000FF } /* Name.Function.Magic */\n",
       ".output_html .vc { color: #19177C } /* Name.Variable.Class */\n",
       ".output_html .vg { color: #19177C } /* Name.Variable.Global */\n",
       ".output_html .vi { color: #19177C } /* Name.Variable.Instance */\n",
       ".output_html .vm { color: #19177C } /* Name.Variable.Magic */\n",
       ".output_html .il { color: #666666 } /* Literal.Number.Integer.Long */</style><div class=\"highlight\"><pre><span></span><span class=\"nt\">&lt;form</span> <span class=\"na\">action=</span><span class=\"s\">&quot;#&quot;</span> <span class=\"na\">enctype=</span><span class=\"s\">&quot;multipart/form-data&quot;</span> <span class=\"na\">method=</span><span class=\"s\">&quot;post&quot;</span><span class=\"nt\">&gt;&lt;label&gt;</span>Nombre<span class=\"nt\">&lt;/label&gt;&lt;input</span> <span class=\"na\">name=</span><span class=\"s\">&quot;nombre&quot;</span> <span class=\"na\">type=</span><span class=\"s\">&quot;text&quot;</span> <span class=\"nt\">/&gt;&lt;input</span> <span class=\"na\">type=</span><span class=\"s\">&quot;submit&quot;</span> <span class=\"nt\">/&gt;&lt;/form&gt;</span>\n",
       "</pre></div>\n"
      ],
      "text/latex": [
       "\\begin{Verbatim}[commandchars=\\\\\\{\\}]\n",
       "\\PY{n+nt}{\\PYZlt{}form} \\PY{n+na}{action=}\\PY{l+s}{\\PYZdq{}\\PYZsh{}\\PYZdq{}} \\PY{n+na}{enctype=}\\PY{l+s}{\\PYZdq{}multipart/form\\PYZhy{}data\\PYZdq{}} \\PY{n+na}{method=}\\PY{l+s}{\\PYZdq{}post\\PYZdq{}}\\PY{n+nt}{\\PYZgt{}}\\PY{n+nt}{\\PYZlt{}label}\\PY{n+nt}{\\PYZgt{}}Nombre\\PY{n+nt}{\\PYZlt{}/label\\PYZgt{}}\\PY{n+nt}{\\PYZlt{}input} \\PY{n+na}{name=}\\PY{l+s}{\\PYZdq{}nombre\\PYZdq{}} \\PY{n+na}{type=}\\PY{l+s}{\\PYZdq{}text\\PYZdq{}} \\PY{n+nt}{/\\PYZgt{}}\\PY{n+nt}{\\PYZlt{}input} \\PY{n+na}{type=}\\PY{l+s}{\\PYZdq{}submit\\PYZdq{}} \\PY{n+nt}{/\\PYZgt{}}\\PY{n+nt}{\\PYZlt{}/form\\PYZgt{}}\n",
       "\\end{Verbatim}\n"
      ],
      "text/plain": [
       "<form action=\"#\" enctype=\"multipart/form-data\" method=\"post\"><label>Nombre</label><input name=\"nombre\" type=\"text\" /><input type=\"submit\" /></form>"
      ]
     },
     "metadata": {},
     "output_type": "display_data"
    },
    {
     "data": {
      "text/html": [
       "<form action=\"#\" enctype=\"multipart/form-data\" method=\"post\"><label>Nombre</label><input name=\"nombre\" type=\"text\" /><input type=\"submit\" /></form>"
      ],
      "text/plain": [
       "<IPython.core.display.HTML object>"
      ]
     },
     "execution_count": 18,
     "metadata": {},
     "output_type": "execute_result"
    }
   ],
   "source": [
    "form = FORM(LABEL('Nombre'), INPUT(_name='nombre'), INPUT(_type='submit'))\n",
    "w2p_render(form, True)"
   ]
  },
  {
   "cell_type": "code",
   "execution_count": 19,
   "metadata": {},
   "outputs": [
    {
     "data": {
      "text/html": [
       "<button class=\"btn btn-danger\">Ok</button>"
      ],
      "text/plain": [
       "<IPython.core.display.HTML object>"
      ]
     },
     "execution_count": 19,
     "metadata": {},
     "output_type": "execute_result"
    }
   ],
   "source": [
    "button = BUTTON('Ok', _class='btn btn-danger')\n",
    "w2p_render(button)"
   ]
  },
  {
   "cell_type": "markdown",
   "metadata": {},
   "source": [
    "### Markmin"
   ]
  },
  {
   "cell_type": "code",
   "execution_count": 20,
   "metadata": {},
   "outputs": [
    {
     "data": {
      "text/html": [
       "<h1>Título</h1><h2>Sección</h2><h3>Subsección</h3><p><strong>bold</strong> <em>italic</em> <del>strikeout</del></p><code>verbatim</code><span style=\"color: red\">color con <strong>bold</strong></span><span style=\"color: blue;background-color: #ffff00;\">varios colores</span><p><a href=\"http://google.com\">http://google.com</a> <a href=\"#markmin_myanchor\"><strong>click</strong> me</a> <a href=\"#markmin_myanchor\" title=\"extra info\" target=\"_blank\">click me</a> <img src=\"http://www.web2py.com/examples/static/web2py_logo.png\" alt=\"alt-string for the image\" title=\"the image title\" style=\"float:right;width:200px\" /></p><ul><li>Dog</li><li>Cat</li><li>Mouse</li></ul><ol><li>Dog</li><li>Cat</li><li>Mouse</li><li>Dogs<ul><li>red</li><li>brown</li><li>black</li></ul></li><li>Cats<ul><li>fluffy</li><li>smooth</li><li>bald</li></ul></li><li>Mice<ul><li>small</li><li>big</li><li>huge</li></ul></li></ol><table class=\"abc\" id=\"markmin_id\"><thead><tr class=\"first\"><td><strong>A</strong></td><td><strong>B</strong></td><td><strong>C</strong></td></tr></thead><tbody><tr class=\"first\"><td class=\"num\">0</td><td class=\"num\">0</td><td>X</td></tr><tr class=\"even\"><td class=\"num\">0</td><td>X</td><td class=\"num\">0</td></tr><tr><td>X</td><td class=\"num\">0</td><td class=\"num\">0</td></tr></tbody><tfoot><tr class=\"first\"><td><strong>D</strong></td><td><strong>F</strong></td><td><strong>G</strong></td></tr></tfoot></table><blockquote><p>This is a paragraph in a blockquote</p><ol><li>item 1</li><li>item 2<ul><li>item 2.1</li><li>item 2.2</li></ul></li><li>item 3</li></ol><table class=\"tableclass1\"><tbody><tr class=\"first\"><td class=\"num\">0</td><td class=\"num\">0</td><td>X</td></tr><tr class=\"even\"><td class=\"num\">0</td><td>X</td><td class=\"num\">0</td></tr><tr><td>X</td><td class=\"num\">0</td><td class=\"num\">0</td></tr></tbody></table></blockquote>"
      ],
      "text/plain": [
       "<IPython.core.display.HTML object>"
      ]
     },
     "execution_count": 20,
     "metadata": {},
     "output_type": "execute_result"
    }
   ],
   "source": [
    "texto ='''\n",
    "# Título\n",
    "## Sección\n",
    "### Subsección\n",
    "**bold**\n",
    "''italic''\n",
    "~~strikeout~~\n",
    "``verbatim``\n",
    "``color con **bold**``:red\n",
    "``varios colores``:color[blue:#ffff00]\n",
    "http://google.com\n",
    "[[**click** me #myanchor]]\n",
    "[[click me [extra info] #myanchor popup]]\t\n",
    "[[alt-string for the image [the image title] http://www.web2py.com/examples/static/web2py_logo.png right 200px]]\n",
    "- Dog\n",
    "- Cat\n",
    "- Mouse\n",
    "+ Dog\n",
    "+ Cat\n",
    "+ Mouse\n",
    "+ Dogs\n",
    " -- red\n",
    " -- brown\n",
    " -- black\n",
    "+ Cats\n",
    " -- fluffy\n",
    " -- smooth\n",
    " -- bald\n",
    "+ Mice\n",
    " -- small\n",
    " -- big\n",
    " -- huge\n",
    "-----------------\n",
    "**A**|**B**|**C**\n",
    "=================\n",
    "  0  |  0  |  X\n",
    "  0  |  X  |  0\n",
    "  X  |  0  |  0\n",
    "=================\n",
    "**D**|**F**|**G**\n",
    "-----------------:abc[id]\n",
    "-----\n",
    "  This is a paragraph in a blockquote\n",
    "\n",
    "  + item 1\n",
    "  + item 2\n",
    "  -- item 2.1\n",
    "  -- item 2.2\n",
    "  + item 3\n",
    "\n",
    "  ---------\n",
    "  0 | 0 | X\n",
    "  0 | X | 0\n",
    "  X | 0 | 0\n",
    "  ---------:tableclass1\n",
    "'''\n",
    "mm = MARKMIN(texto)\n",
    "w2p_render(mm)"
   ]
  },
  {
   "cell_type": "markdown",
   "metadata": {},
   "source": [
    "## [Boostrap](https://getbootstrap.com/)\n",
    "La aplicación plantilla de Web2py, welcome, utiliza Bootstrap como framework CSS, aunque el programador no está obligado a nada. Echaremos un vistazo rápido para que nos resulte más fácil entender las vistas creadas con dicho framework.\n",
    "\n",
    "## [jQuery](https://jquery.com/)\n",
    "Web2py utiliza jQuery como ayuda en la parte cliente, aunque el programador no está obligado a nada. Echaremos un vistazo rápido para que nos resulte más fácil entender cómo funciona Web2py en dicha parte."
   ]
  }
 ],
 "metadata": {
  "kernelspec": {
   "display_name": "Python 3",
   "language": "python",
   "name": "python3"
  },
  "language_info": {
   "codemirror_mode": {
    "name": "ipython",
    "version": 3
   },
   "file_extension": ".py",
   "mimetype": "text/x-python",
   "name": "python",
   "nbconvert_exporter": "python",
   "pygments_lexer": "ipython3",
   "version": "3.7.9"
  }
 },
 "nbformat": 4,
 "nbformat_minor": 2
}
